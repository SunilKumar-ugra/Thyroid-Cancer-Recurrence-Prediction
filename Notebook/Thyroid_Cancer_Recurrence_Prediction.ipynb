{
 "cells": [
  {
   "cell_type": "code",
   "execution_count": 1,
   "id": "6a5dff30",
   "metadata": {
    "_cell_guid": "b1076dfc-b9ad-4769-8c92-a6c4dae69d19",
    "_uuid": "8f2839f25d086af736a60e9eeb907d3b93b6e0e5",
    "execution": {
     "iopub.execute_input": "2024-05-26T11:52:29.708451Z",
     "iopub.status.busy": "2024-05-26T11:52:29.707720Z",
     "iopub.status.idle": "2024-05-26T11:52:30.537649Z",
     "shell.execute_reply": "2024-05-26T11:52:30.536555Z"
    },
    "papermill": {
     "duration": 0.849907,
     "end_time": "2024-05-26T11:52:30.541793",
     "exception": false,
     "start_time": "2024-05-26T11:52:29.691886",
     "status": "completed"
    },
    "tags": []
   },
   "outputs": [
    {
     "name": "stdout",
     "output_type": "stream",
     "text": [
      "/kaggle/input/thyroid-cancer-recurrence-prediction/Thyroid_Diff.csv\n"
     ]
    }
   ],
   "source": [
    "# This Python 3 environment comes with many helpful analytics libraries installed\n",
    "# It is defined by the kaggle/python Docker image: https://github.com/kaggle/docker-python\n",
    "# For example, here's several helpful packages to load\n",
    "\n",
    "import numpy as np # linear algebra\n",
    "import pandas as pd # data processing, CSV file I/O (e.g. pd.read_csv)\n",
    "\n",
    "# Input data files are available in the read-only \"../input/\" directory\n",
    "# For example, running this (by clicking run or pressing Shift+Enter) will list all files under the input directory\n",
    "\n",
    "import os\n",
    "for dirname, _, filenames in os.walk('/kaggle/input'):\n",
    "    for filename in filenames:\n",
    "        print(os.path.join(dirname, filename))\n",
    "\n",
    "# You can write up to 20GB to the current directory (/kaggle/working/) that gets preserved as output when you create a version using \"Save & Run All\" \n",
    "# You can also write temporary files to /kaggle/temp/, but they won't be saved outside of the current session"
   ]
  },
  {
   "cell_type": "markdown",
   "id": "09a680df",
   "metadata": {
    "papermill": {
     "duration": 0.013129,
     "end_time": "2024-05-26T11:52:30.569767",
     "exception": false,
     "start_time": "2024-05-26T11:52:30.556638",
     "status": "completed"
    },
    "tags": []
   },
   "source": [
    "# Import Packages"
   ]
  },
  {
   "cell_type": "code",
   "execution_count": 2,
   "id": "8d9ce233",
   "metadata": {
    "execution": {
     "iopub.execute_input": "2024-05-26T11:52:30.599162Z",
     "iopub.status.busy": "2024-05-26T11:52:30.598703Z",
     "iopub.status.idle": "2024-05-26T11:52:31.808439Z",
     "shell.execute_reply": "2024-05-26T11:52:31.807261Z"
    },
    "papermill": {
     "duration": 1.227984,
     "end_time": "2024-05-26T11:52:31.811093",
     "exception": false,
     "start_time": "2024-05-26T11:52:30.583109",
     "status": "completed"
    },
    "tags": []
   },
   "outputs": [],
   "source": [
    "## Data Analysis Phase\n",
    "## MAin aim is to understand more about the data\n",
    "\n",
    "import pandas as pd\n",
    "import numpy as np\n",
    "import matplotlib.pyplot as plt\n",
    "%matplotlib inline\n",
    "import seaborn as sns\n",
    "## Display all the columns of the dataframe\n",
    "\n",
    "pd.pandas.set_option('display.max_columns',None)"
   ]
  },
  {
   "cell_type": "markdown",
   "id": "74d5c78a",
   "metadata": {
    "papermill": {
     "duration": 0.01301,
     "end_time": "2024-05-26T11:52:31.837605",
     "exception": false,
     "start_time": "2024-05-26T11:52:31.824595",
     "status": "completed"
    },
    "tags": []
   },
   "source": [
    "# Read Dataset"
   ]
  },
  {
   "cell_type": "code",
   "execution_count": 3,
   "id": "41095068",
   "metadata": {
    "execution": {
     "iopub.execute_input": "2024-05-26T11:52:31.866366Z",
     "iopub.status.busy": "2024-05-26T11:52:31.865559Z",
     "iopub.status.idle": "2024-05-26T11:52:31.885173Z",
     "shell.execute_reply": "2024-05-26T11:52:31.884163Z"
    },
    "papermill": {
     "duration": 0.036347,
     "end_time": "2024-05-26T11:52:31.887274",
     "exception": false,
     "start_time": "2024-05-26T11:52:31.850927",
     "status": "completed"
    },
    "tags": []
   },
   "outputs": [
    {
     "name": "stdout",
     "output_type": "stream",
     "text": [
      "(383, 17)\n"
     ]
    }
   ],
   "source": [
    "dataset=pd.read_csv('/kaggle/input/thyroid-cancer-recurrence-prediction/Thyroid_Diff.csv')\n",
    "\n",
    "## print shape of dataset with rows and columns\n",
    "print(dataset.shape)"
   ]
  },
  {
   "cell_type": "code",
   "execution_count": 4,
   "id": "3cbd33ec",
   "metadata": {
    "execution": {
     "iopub.execute_input": "2024-05-26T11:52:31.916144Z",
     "iopub.status.busy": "2024-05-26T11:52:31.915443Z",
     "iopub.status.idle": "2024-05-26T11:52:31.942314Z",
     "shell.execute_reply": "2024-05-26T11:52:31.941400Z"
    },
    "papermill": {
     "duration": 0.043512,
     "end_time": "2024-05-26T11:52:31.944321",
     "exception": false,
     "start_time": "2024-05-26T11:52:31.900809",
     "status": "completed"
    },
    "tags": []
   },
   "outputs": [
    {
     "data": {
      "text/html": [
       "<div>\n",
       "<style scoped>\n",
       "    .dataframe tbody tr th:only-of-type {\n",
       "        vertical-align: middle;\n",
       "    }\n",
       "\n",
       "    .dataframe tbody tr th {\n",
       "        vertical-align: top;\n",
       "    }\n",
       "\n",
       "    .dataframe thead th {\n",
       "        text-align: right;\n",
       "    }\n",
       "</style>\n",
       "<table border=\"1\" class=\"dataframe\">\n",
       "  <thead>\n",
       "    <tr style=\"text-align: right;\">\n",
       "      <th></th>\n",
       "      <th>Age</th>\n",
       "      <th>Gender</th>\n",
       "      <th>Smoking</th>\n",
       "      <th>Hx Smoking</th>\n",
       "      <th>Hx Radiothreapy</th>\n",
       "      <th>Thyroid Function</th>\n",
       "      <th>Physical Examination</th>\n",
       "      <th>Adenopathy</th>\n",
       "      <th>Pathology</th>\n",
       "      <th>Focality</th>\n",
       "      <th>Risk</th>\n",
       "      <th>T</th>\n",
       "      <th>N</th>\n",
       "      <th>M</th>\n",
       "      <th>Stage</th>\n",
       "      <th>Response</th>\n",
       "      <th>Recurred</th>\n",
       "    </tr>\n",
       "  </thead>\n",
       "  <tbody>\n",
       "    <tr>\n",
       "      <th>0</th>\n",
       "      <td>27</td>\n",
       "      <td>F</td>\n",
       "      <td>No</td>\n",
       "      <td>No</td>\n",
       "      <td>No</td>\n",
       "      <td>Euthyroid</td>\n",
       "      <td>Single nodular goiter-left</td>\n",
       "      <td>No</td>\n",
       "      <td>Micropapillary</td>\n",
       "      <td>Uni-Focal</td>\n",
       "      <td>Low</td>\n",
       "      <td>T1a</td>\n",
       "      <td>N0</td>\n",
       "      <td>M0</td>\n",
       "      <td>I</td>\n",
       "      <td>Indeterminate</td>\n",
       "      <td>No</td>\n",
       "    </tr>\n",
       "    <tr>\n",
       "      <th>1</th>\n",
       "      <td>34</td>\n",
       "      <td>F</td>\n",
       "      <td>No</td>\n",
       "      <td>Yes</td>\n",
       "      <td>No</td>\n",
       "      <td>Euthyroid</td>\n",
       "      <td>Multinodular goiter</td>\n",
       "      <td>No</td>\n",
       "      <td>Micropapillary</td>\n",
       "      <td>Uni-Focal</td>\n",
       "      <td>Low</td>\n",
       "      <td>T1a</td>\n",
       "      <td>N0</td>\n",
       "      <td>M0</td>\n",
       "      <td>I</td>\n",
       "      <td>Excellent</td>\n",
       "      <td>No</td>\n",
       "    </tr>\n",
       "    <tr>\n",
       "      <th>2</th>\n",
       "      <td>30</td>\n",
       "      <td>F</td>\n",
       "      <td>No</td>\n",
       "      <td>No</td>\n",
       "      <td>No</td>\n",
       "      <td>Euthyroid</td>\n",
       "      <td>Single nodular goiter-right</td>\n",
       "      <td>No</td>\n",
       "      <td>Micropapillary</td>\n",
       "      <td>Uni-Focal</td>\n",
       "      <td>Low</td>\n",
       "      <td>T1a</td>\n",
       "      <td>N0</td>\n",
       "      <td>M0</td>\n",
       "      <td>I</td>\n",
       "      <td>Excellent</td>\n",
       "      <td>No</td>\n",
       "    </tr>\n",
       "    <tr>\n",
       "      <th>3</th>\n",
       "      <td>62</td>\n",
       "      <td>F</td>\n",
       "      <td>No</td>\n",
       "      <td>No</td>\n",
       "      <td>No</td>\n",
       "      <td>Euthyroid</td>\n",
       "      <td>Single nodular goiter-right</td>\n",
       "      <td>No</td>\n",
       "      <td>Micropapillary</td>\n",
       "      <td>Uni-Focal</td>\n",
       "      <td>Low</td>\n",
       "      <td>T1a</td>\n",
       "      <td>N0</td>\n",
       "      <td>M0</td>\n",
       "      <td>I</td>\n",
       "      <td>Excellent</td>\n",
       "      <td>No</td>\n",
       "    </tr>\n",
       "    <tr>\n",
       "      <th>4</th>\n",
       "      <td>62</td>\n",
       "      <td>F</td>\n",
       "      <td>No</td>\n",
       "      <td>No</td>\n",
       "      <td>No</td>\n",
       "      <td>Euthyroid</td>\n",
       "      <td>Multinodular goiter</td>\n",
       "      <td>No</td>\n",
       "      <td>Micropapillary</td>\n",
       "      <td>Multi-Focal</td>\n",
       "      <td>Low</td>\n",
       "      <td>T1a</td>\n",
       "      <td>N0</td>\n",
       "      <td>M0</td>\n",
       "      <td>I</td>\n",
       "      <td>Excellent</td>\n",
       "      <td>No</td>\n",
       "    </tr>\n",
       "  </tbody>\n",
       "</table>\n",
       "</div>"
      ],
      "text/plain": [
       "   Age Gender Smoking Hx Smoking Hx Radiothreapy Thyroid Function  \\\n",
       "0   27      F      No         No              No        Euthyroid   \n",
       "1   34      F      No        Yes              No        Euthyroid   \n",
       "2   30      F      No         No              No        Euthyroid   \n",
       "3   62      F      No         No              No        Euthyroid   \n",
       "4   62      F      No         No              No        Euthyroid   \n",
       "\n",
       "          Physical Examination Adenopathy       Pathology     Focality Risk  \\\n",
       "0   Single nodular goiter-left         No  Micropapillary    Uni-Focal  Low   \n",
       "1          Multinodular goiter         No  Micropapillary    Uni-Focal  Low   \n",
       "2  Single nodular goiter-right         No  Micropapillary    Uni-Focal  Low   \n",
       "3  Single nodular goiter-right         No  Micropapillary    Uni-Focal  Low   \n",
       "4          Multinodular goiter         No  Micropapillary  Multi-Focal  Low   \n",
       "\n",
       "     T   N   M Stage       Response Recurred  \n",
       "0  T1a  N0  M0     I  Indeterminate       No  \n",
       "1  T1a  N0  M0     I      Excellent       No  \n",
       "2  T1a  N0  M0     I      Excellent       No  \n",
       "3  T1a  N0  M0     I      Excellent       No  \n",
       "4  T1a  N0  M0     I      Excellent       No  "
      ]
     },
     "execution_count": 4,
     "metadata": {},
     "output_type": "execute_result"
    }
   ],
   "source": [
    "## print the top5 records\n",
    "dataset.head()"
   ]
  },
  {
   "cell_type": "code",
   "execution_count": 5,
   "id": "e9b4c44e",
   "metadata": {
    "execution": {
     "iopub.execute_input": "2024-05-26T11:52:31.973792Z",
     "iopub.status.busy": "2024-05-26T11:52:31.973047Z",
     "iopub.status.idle": "2024-05-26T11:52:32.006765Z",
     "shell.execute_reply": "2024-05-26T11:52:32.005574Z"
    },
    "papermill": {
     "duration": 0.050785,
     "end_time": "2024-05-26T11:52:32.008886",
     "exception": false,
     "start_time": "2024-05-26T11:52:31.958101",
     "status": "completed"
    },
    "tags": []
   },
   "outputs": [
    {
     "name": "stdout",
     "output_type": "stream",
     "text": [
      "<class 'pandas.core.frame.DataFrame'>\n",
      "RangeIndex: 383 entries, 0 to 382\n",
      "Data columns (total 17 columns):\n",
      " #   Column                Non-Null Count  Dtype \n",
      "---  ------                --------------  ----- \n",
      " 0   Age                   383 non-null    int64 \n",
      " 1   Gender                383 non-null    object\n",
      " 2   Smoking               383 non-null    object\n",
      " 3   Hx Smoking            383 non-null    object\n",
      " 4   Hx Radiothreapy       383 non-null    object\n",
      " 5   Thyroid Function      383 non-null    object\n",
      " 6   Physical Examination  383 non-null    object\n",
      " 7   Adenopathy            383 non-null    object\n",
      " 8   Pathology             383 non-null    object\n",
      " 9   Focality              383 non-null    object\n",
      " 10  Risk                  383 non-null    object\n",
      " 11  T                     383 non-null    object\n",
      " 12  N                     383 non-null    object\n",
      " 13  M                     383 non-null    object\n",
      " 14  Stage                 383 non-null    object\n",
      " 15  Response              383 non-null    object\n",
      " 16  Recurred              383 non-null    object\n",
      "dtypes: int64(1), object(16)\n",
      "memory usage: 51.0+ KB\n"
     ]
    }
   ],
   "source": [
    "dataset.info()"
   ]
  },
  {
   "cell_type": "code",
   "execution_count": 6,
   "id": "a0613ff4",
   "metadata": {
    "execution": {
     "iopub.execute_input": "2024-05-26T11:52:32.038480Z",
     "iopub.status.busy": "2024-05-26T11:52:32.037714Z",
     "iopub.status.idle": "2024-05-26T11:52:32.054309Z",
     "shell.execute_reply": "2024-05-26T11:52:32.053106Z"
    },
    "papermill": {
     "duration": 0.034319,
     "end_time": "2024-05-26T11:52:32.057084",
     "exception": false,
     "start_time": "2024-05-26T11:52:32.022765",
     "status": "completed"
    },
    "tags": []
   },
   "outputs": [
    {
     "name": "stdout",
     "output_type": "stream",
     "text": [
      "\n",
      "Data Types:\n",
      "Age                      int64\n",
      "Gender                  object\n",
      "Smoking                 object\n",
      "Hx Smoking              object\n",
      "Hx Radiothreapy         object\n",
      "Thyroid Function        object\n",
      "Physical Examination    object\n",
      "Adenopathy              object\n",
      "Pathology               object\n",
      "Focality                object\n",
      "Risk                    object\n",
      "T                       object\n",
      "N                       object\n",
      "M                       object\n",
      "Stage                   object\n",
      "Response                object\n",
      "Recurred                object\n",
      "dtype: object\n",
      "\n",
      "Descriptive Statistics:\n",
      "              Age\n",
      "count  383.000000\n",
      "mean    40.866841\n",
      "std     15.134494\n",
      "min     15.000000\n",
      "25%     29.000000\n",
      "50%     37.000000\n",
      "75%     51.000000\n",
      "max     82.000000\n"
     ]
    }
   ],
   "source": [
    "# Verifying data types and integrity\n",
    "print(\"\\nData Types:\")\n",
    "print(dataset.dtypes)\n",
    "\n",
    "# Descriptive Statistics\n",
    "print(\"\\nDescriptive Statistics:\")\n",
    "print(dataset.describe())"
   ]
  },
  {
   "cell_type": "code",
   "execution_count": 7,
   "id": "e3b66557",
   "metadata": {
    "execution": {
     "iopub.execute_input": "2024-05-26T11:52:32.086897Z",
     "iopub.status.busy": "2024-05-26T11:52:32.086495Z",
     "iopub.status.idle": "2024-05-26T11:52:32.319553Z",
     "shell.execute_reply": "2024-05-26T11:52:32.318761Z"
    },
    "papermill": {
     "duration": 0.250397,
     "end_time": "2024-05-26T11:52:32.321653",
     "exception": false,
     "start_time": "2024-05-26T11:52:32.071256",
     "status": "completed"
    },
    "tags": []
   },
   "outputs": [
    {
     "data": {
      "text/plain": [
       "{'No': 0, 'Yes': 1}"
      ]
     },
     "execution_count": 7,
     "metadata": {},
     "output_type": "execute_result"
    }
   ],
   "source": [
    "from sklearn import preprocessing\n",
    "le = preprocessing.LabelEncoder()\n",
    "dataset['Recurred']=le.fit_transform(dataset['Recurred'])\n",
    "Recurred_name_mapping = dict(zip(le.classes_, le.transform(le.classes_)))\n",
    "Recurred_name_mapping"
   ]
  },
  {
   "cell_type": "code",
   "execution_count": 8,
   "id": "333ef0da",
   "metadata": {
    "execution": {
     "iopub.execute_input": "2024-05-26T11:52:32.352232Z",
     "iopub.status.busy": "2024-05-26T11:52:32.351539Z",
     "iopub.status.idle": "2024-05-26T11:52:32.360207Z",
     "shell.execute_reply": "2024-05-26T11:52:32.359300Z"
    },
    "papermill": {
     "duration": 0.026461,
     "end_time": "2024-05-26T11:52:32.362430",
     "exception": false,
     "start_time": "2024-05-26T11:52:32.335969",
     "status": "completed"
    },
    "tags": []
   },
   "outputs": [
    {
     "data": {
      "text/html": [
       "<div>\n",
       "<style scoped>\n",
       "    .dataframe tbody tr th:only-of-type {\n",
       "        vertical-align: middle;\n",
       "    }\n",
       "\n",
       "    .dataframe tbody tr th {\n",
       "        vertical-align: top;\n",
       "    }\n",
       "\n",
       "    .dataframe thead th {\n",
       "        text-align: right;\n",
       "    }\n",
       "</style>\n",
       "<table border=\"1\" class=\"dataframe\">\n",
       "  <thead>\n",
       "    <tr style=\"text-align: right;\">\n",
       "      <th></th>\n",
       "      <th>0</th>\n",
       "      <th>1</th>\n",
       "    </tr>\n",
       "  </thead>\n",
       "  <tbody>\n",
       "    <tr>\n",
       "      <th>0</th>\n",
       "      <td>No</td>\n",
       "      <td>0</td>\n",
       "    </tr>\n",
       "    <tr>\n",
       "      <th>1</th>\n",
       "      <td>Yes</td>\n",
       "      <td>1</td>\n",
       "    </tr>\n",
       "  </tbody>\n",
       "</table>\n",
       "</div>"
      ],
      "text/plain": [
       "     0  1\n",
       "0   No  0\n",
       "1  Yes  1"
      ]
     },
     "execution_count": 8,
     "metadata": {},
     "output_type": "execute_result"
    }
   ],
   "source": [
    "pd.DataFrame(Recurred_name_mapping.items())"
   ]
  },
  {
   "cell_type": "code",
   "execution_count": 9,
   "id": "2ff0e3da",
   "metadata": {
    "execution": {
     "iopub.execute_input": "2024-05-26T11:52:32.392555Z",
     "iopub.status.busy": "2024-05-26T11:52:32.392203Z",
     "iopub.status.idle": "2024-05-26T11:52:32.408829Z",
     "shell.execute_reply": "2024-05-26T11:52:32.407773Z"
    },
    "papermill": {
     "duration": 0.034589,
     "end_time": "2024-05-26T11:52:32.411211",
     "exception": false,
     "start_time": "2024-05-26T11:52:32.376622",
     "status": "completed"
    },
    "tags": []
   },
   "outputs": [
    {
     "data": {
      "text/html": [
       "<div>\n",
       "<style scoped>\n",
       "    .dataframe tbody tr th:only-of-type {\n",
       "        vertical-align: middle;\n",
       "    }\n",
       "\n",
       "    .dataframe tbody tr th {\n",
       "        vertical-align: top;\n",
       "    }\n",
       "\n",
       "    .dataframe thead th {\n",
       "        text-align: right;\n",
       "    }\n",
       "</style>\n",
       "<table border=\"1\" class=\"dataframe\">\n",
       "  <thead>\n",
       "    <tr style=\"text-align: right;\">\n",
       "      <th></th>\n",
       "      <th>Age</th>\n",
       "      <th>Gender</th>\n",
       "      <th>Smoking</th>\n",
       "      <th>Hx Smoking</th>\n",
       "      <th>Hx Radiothreapy</th>\n",
       "      <th>Thyroid Function</th>\n",
       "      <th>Physical Examination</th>\n",
       "      <th>Adenopathy</th>\n",
       "      <th>Pathology</th>\n",
       "      <th>Focality</th>\n",
       "      <th>Risk</th>\n",
       "      <th>T</th>\n",
       "      <th>N</th>\n",
       "      <th>M</th>\n",
       "      <th>Stage</th>\n",
       "      <th>Response</th>\n",
       "      <th>Recurred</th>\n",
       "    </tr>\n",
       "  </thead>\n",
       "  <tbody>\n",
       "    <tr>\n",
       "      <th>0</th>\n",
       "      <td>27</td>\n",
       "      <td>F</td>\n",
       "      <td>No</td>\n",
       "      <td>No</td>\n",
       "      <td>No</td>\n",
       "      <td>Euthyroid</td>\n",
       "      <td>Single nodular goiter-left</td>\n",
       "      <td>No</td>\n",
       "      <td>Micropapillary</td>\n",
       "      <td>Uni-Focal</td>\n",
       "      <td>Low</td>\n",
       "      <td>T1a</td>\n",
       "      <td>N0</td>\n",
       "      <td>M0</td>\n",
       "      <td>I</td>\n",
       "      <td>Indeterminate</td>\n",
       "      <td>0</td>\n",
       "    </tr>\n",
       "    <tr>\n",
       "      <th>1</th>\n",
       "      <td>34</td>\n",
       "      <td>F</td>\n",
       "      <td>No</td>\n",
       "      <td>Yes</td>\n",
       "      <td>No</td>\n",
       "      <td>Euthyroid</td>\n",
       "      <td>Multinodular goiter</td>\n",
       "      <td>No</td>\n",
       "      <td>Micropapillary</td>\n",
       "      <td>Uni-Focal</td>\n",
       "      <td>Low</td>\n",
       "      <td>T1a</td>\n",
       "      <td>N0</td>\n",
       "      <td>M0</td>\n",
       "      <td>I</td>\n",
       "      <td>Excellent</td>\n",
       "      <td>0</td>\n",
       "    </tr>\n",
       "    <tr>\n",
       "      <th>2</th>\n",
       "      <td>30</td>\n",
       "      <td>F</td>\n",
       "      <td>No</td>\n",
       "      <td>No</td>\n",
       "      <td>No</td>\n",
       "      <td>Euthyroid</td>\n",
       "      <td>Single nodular goiter-right</td>\n",
       "      <td>No</td>\n",
       "      <td>Micropapillary</td>\n",
       "      <td>Uni-Focal</td>\n",
       "      <td>Low</td>\n",
       "      <td>T1a</td>\n",
       "      <td>N0</td>\n",
       "      <td>M0</td>\n",
       "      <td>I</td>\n",
       "      <td>Excellent</td>\n",
       "      <td>0</td>\n",
       "    </tr>\n",
       "    <tr>\n",
       "      <th>3</th>\n",
       "      <td>62</td>\n",
       "      <td>F</td>\n",
       "      <td>No</td>\n",
       "      <td>No</td>\n",
       "      <td>No</td>\n",
       "      <td>Euthyroid</td>\n",
       "      <td>Single nodular goiter-right</td>\n",
       "      <td>No</td>\n",
       "      <td>Micropapillary</td>\n",
       "      <td>Uni-Focal</td>\n",
       "      <td>Low</td>\n",
       "      <td>T1a</td>\n",
       "      <td>N0</td>\n",
       "      <td>M0</td>\n",
       "      <td>I</td>\n",
       "      <td>Excellent</td>\n",
       "      <td>0</td>\n",
       "    </tr>\n",
       "    <tr>\n",
       "      <th>4</th>\n",
       "      <td>62</td>\n",
       "      <td>F</td>\n",
       "      <td>No</td>\n",
       "      <td>No</td>\n",
       "      <td>No</td>\n",
       "      <td>Euthyroid</td>\n",
       "      <td>Multinodular goiter</td>\n",
       "      <td>No</td>\n",
       "      <td>Micropapillary</td>\n",
       "      <td>Multi-Focal</td>\n",
       "      <td>Low</td>\n",
       "      <td>T1a</td>\n",
       "      <td>N0</td>\n",
       "      <td>M0</td>\n",
       "      <td>I</td>\n",
       "      <td>Excellent</td>\n",
       "      <td>0</td>\n",
       "    </tr>\n",
       "  </tbody>\n",
       "</table>\n",
       "</div>"
      ],
      "text/plain": [
       "   Age Gender Smoking Hx Smoking Hx Radiothreapy Thyroid Function  \\\n",
       "0   27      F      No         No              No        Euthyroid   \n",
       "1   34      F      No        Yes              No        Euthyroid   \n",
       "2   30      F      No         No              No        Euthyroid   \n",
       "3   62      F      No         No              No        Euthyroid   \n",
       "4   62      F      No         No              No        Euthyroid   \n",
       "\n",
       "          Physical Examination Adenopathy       Pathology     Focality Risk  \\\n",
       "0   Single nodular goiter-left         No  Micropapillary    Uni-Focal  Low   \n",
       "1          Multinodular goiter         No  Micropapillary    Uni-Focal  Low   \n",
       "2  Single nodular goiter-right         No  Micropapillary    Uni-Focal  Low   \n",
       "3  Single nodular goiter-right         No  Micropapillary    Uni-Focal  Low   \n",
       "4          Multinodular goiter         No  Micropapillary  Multi-Focal  Low   \n",
       "\n",
       "     T   N   M Stage       Response  Recurred  \n",
       "0  T1a  N0  M0     I  Indeterminate         0  \n",
       "1  T1a  N0  M0     I      Excellent         0  \n",
       "2  T1a  N0  M0     I      Excellent         0  \n",
       "3  T1a  N0  M0     I      Excellent         0  \n",
       "4  T1a  N0  M0     I      Excellent         0  "
      ]
     },
     "execution_count": 9,
     "metadata": {},
     "output_type": "execute_result"
    }
   ],
   "source": [
    "dataset.head()"
   ]
  },
  {
   "cell_type": "markdown",
   "id": "7d6ac3c5",
   "metadata": {
    "papermill": {
     "duration": 0.014162,
     "end_time": "2024-05-26T11:52:32.439722",
     "exception": false,
     "start_time": "2024-05-26T11:52:32.425560",
     "status": "completed"
    },
    "tags": []
   },
   "source": [
    "# EDA\n",
    "## Missing features"
   ]
  },
  {
   "cell_type": "code",
   "execution_count": 10,
   "id": "f29ba227",
   "metadata": {
    "execution": {
     "iopub.execute_input": "2024-05-26T11:52:32.470808Z",
     "iopub.status.busy": "2024-05-26T11:52:32.470397Z",
     "iopub.status.idle": "2024-05-26T11:52:32.479065Z",
     "shell.execute_reply": "2024-05-26T11:52:32.477974Z"
    },
    "papermill": {
     "duration": 0.027044,
     "end_time": "2024-05-26T11:52:32.481253",
     "exception": false,
     "start_time": "2024-05-26T11:52:32.454209",
     "status": "completed"
    },
    "tags": []
   },
   "outputs": [],
   "source": [
    "## Here we will check the percentage of nan values present in each feature\n",
    "## 1 -step make the list of features which has missing values\n",
    "features_with_na=[features for features in dataset.columns if dataset[features].isnull().sum()>1]\n",
    "## 2- step print the feature name and the percentage of missing values\n",
    "\n",
    "for feature in features_with_na:\n",
    "    print(feature, np.round(dataset[feature].isnull().mean(), 4),  ' % missing values')"
   ]
  },
  {
   "cell_type": "markdown",
   "id": "18db345e",
   "metadata": {
    "papermill": {
     "duration": 0.014033,
     "end_time": "2024-05-26T11:52:32.509894",
     "exception": false,
     "start_time": "2024-05-26T11:52:32.495861",
     "status": "completed"
    },
    "tags": []
   },
   "source": [
    "No Missing Feature"
   ]
  },
  {
   "cell_type": "markdown",
   "id": "c57074da",
   "metadata": {
    "papermill": {
     "duration": 0.014162,
     "end_time": "2024-05-26T11:52:32.538349",
     "exception": false,
     "start_time": "2024-05-26T11:52:32.524187",
     "status": "completed"
    },
    "tags": []
   },
   "source": [
    "## Numerical Variables"
   ]
  },
  {
   "cell_type": "code",
   "execution_count": 11,
   "id": "d73e7886",
   "metadata": {
    "execution": {
     "iopub.execute_input": "2024-05-26T11:52:32.568879Z",
     "iopub.status.busy": "2024-05-26T11:52:32.568471Z",
     "iopub.status.idle": "2024-05-26T11:52:32.581961Z",
     "shell.execute_reply": "2024-05-26T11:52:32.580884Z"
    },
    "papermill": {
     "duration": 0.03192,
     "end_time": "2024-05-26T11:52:32.584701",
     "exception": false,
     "start_time": "2024-05-26T11:52:32.552781",
     "status": "completed"
    },
    "tags": []
   },
   "outputs": [
    {
     "name": "stdout",
     "output_type": "stream",
     "text": [
      "Number of numerical variables:  2\n"
     ]
    },
    {
     "data": {
      "text/html": [
       "<div>\n",
       "<style scoped>\n",
       "    .dataframe tbody tr th:only-of-type {\n",
       "        vertical-align: middle;\n",
       "    }\n",
       "\n",
       "    .dataframe tbody tr th {\n",
       "        vertical-align: top;\n",
       "    }\n",
       "\n",
       "    .dataframe thead th {\n",
       "        text-align: right;\n",
       "    }\n",
       "</style>\n",
       "<table border=\"1\" class=\"dataframe\">\n",
       "  <thead>\n",
       "    <tr style=\"text-align: right;\">\n",
       "      <th></th>\n",
       "      <th>Age</th>\n",
       "      <th>Recurred</th>\n",
       "    </tr>\n",
       "  </thead>\n",
       "  <tbody>\n",
       "    <tr>\n",
       "      <th>0</th>\n",
       "      <td>27</td>\n",
       "      <td>0</td>\n",
       "    </tr>\n",
       "    <tr>\n",
       "      <th>1</th>\n",
       "      <td>34</td>\n",
       "      <td>0</td>\n",
       "    </tr>\n",
       "    <tr>\n",
       "      <th>2</th>\n",
       "      <td>30</td>\n",
       "      <td>0</td>\n",
       "    </tr>\n",
       "    <tr>\n",
       "      <th>3</th>\n",
       "      <td>62</td>\n",
       "      <td>0</td>\n",
       "    </tr>\n",
       "    <tr>\n",
       "      <th>4</th>\n",
       "      <td>62</td>\n",
       "      <td>0</td>\n",
       "    </tr>\n",
       "  </tbody>\n",
       "</table>\n",
       "</div>"
      ],
      "text/plain": [
       "   Age  Recurred\n",
       "0   27         0\n",
       "1   34         0\n",
       "2   30         0\n",
       "3   62         0\n",
       "4   62         0"
      ]
     },
     "execution_count": 11,
     "metadata": {},
     "output_type": "execute_result"
    }
   ],
   "source": [
    "# list of numerical variables\n",
    "numerical_features = [feature for feature in dataset.columns if dataset[feature].dtypes != 'O']\n",
    "\n",
    "print('Number of numerical variables: ', len(numerical_features))\n",
    "\n",
    "# visualise the numerical variables\n",
    "dataset[numerical_features].head()"
   ]
  },
  {
   "cell_type": "code",
   "execution_count": 12,
   "id": "cae58b54",
   "metadata": {
    "execution": {
     "iopub.execute_input": "2024-05-26T11:52:32.616104Z",
     "iopub.status.busy": "2024-05-26T11:52:32.615441Z",
     "iopub.status.idle": "2024-05-26T11:52:32.630540Z",
     "shell.execute_reply": "2024-05-26T11:52:32.629451Z"
    },
    "papermill": {
     "duration": 0.033701,
     "end_time": "2024-05-26T11:52:32.633007",
     "exception": false,
     "start_time": "2024-05-26T11:52:32.599306",
     "status": "completed"
    },
    "tags": []
   },
   "outputs": [
    {
     "data": {
      "text/html": [
       "<div>\n",
       "<style scoped>\n",
       "    .dataframe tbody tr th:only-of-type {\n",
       "        vertical-align: middle;\n",
       "    }\n",
       "\n",
       "    .dataframe tbody tr th {\n",
       "        vertical-align: top;\n",
       "    }\n",
       "\n",
       "    .dataframe thead th {\n",
       "        text-align: right;\n",
       "    }\n",
       "</style>\n",
       "<table border=\"1\" class=\"dataframe\">\n",
       "  <thead>\n",
       "    <tr style=\"text-align: right;\">\n",
       "      <th></th>\n",
       "      <th>Age</th>\n",
       "      <th>Recurred</th>\n",
       "    </tr>\n",
       "  </thead>\n",
       "  <tbody>\n",
       "    <tr>\n",
       "      <th>count</th>\n",
       "      <td>383.000000</td>\n",
       "      <td>383.000000</td>\n",
       "    </tr>\n",
       "    <tr>\n",
       "      <th>mean</th>\n",
       "      <td>40.866841</td>\n",
       "      <td>0.281984</td>\n",
       "    </tr>\n",
       "    <tr>\n",
       "      <th>std</th>\n",
       "      <td>15.134494</td>\n",
       "      <td>0.450554</td>\n",
       "    </tr>\n",
       "    <tr>\n",
       "      <th>min</th>\n",
       "      <td>15.000000</td>\n",
       "      <td>0.000000</td>\n",
       "    </tr>\n",
       "    <tr>\n",
       "      <th>25%</th>\n",
       "      <td>29.000000</td>\n",
       "      <td>0.000000</td>\n",
       "    </tr>\n",
       "    <tr>\n",
       "      <th>50%</th>\n",
       "      <td>37.000000</td>\n",
       "      <td>0.000000</td>\n",
       "    </tr>\n",
       "    <tr>\n",
       "      <th>75%</th>\n",
       "      <td>51.000000</td>\n",
       "      <td>1.000000</td>\n",
       "    </tr>\n",
       "    <tr>\n",
       "      <th>max</th>\n",
       "      <td>82.000000</td>\n",
       "      <td>1.000000</td>\n",
       "    </tr>\n",
       "  </tbody>\n",
       "</table>\n",
       "</div>"
      ],
      "text/plain": [
       "              Age    Recurred\n",
       "count  383.000000  383.000000\n",
       "mean    40.866841    0.281984\n",
       "std     15.134494    0.450554\n",
       "min     15.000000    0.000000\n",
       "25%     29.000000    0.000000\n",
       "50%     37.000000    0.000000\n",
       "75%     51.000000    1.000000\n",
       "max     82.000000    1.000000"
      ]
     },
     "execution_count": 12,
     "metadata": {},
     "output_type": "execute_result"
    }
   ],
   "source": [
    "dataset.describe()"
   ]
  },
  {
   "cell_type": "markdown",
   "id": "2b68e576",
   "metadata": {
    "papermill": {
     "duration": 0.014697,
     "end_time": "2024-05-26T11:52:32.663285",
     "exception": false,
     "start_time": "2024-05-26T11:52:32.648588",
     "status": "completed"
    },
    "tags": []
   },
   "source": [
    "## Temporal Variables(Eg: Datetime Variables)"
   ]
  },
  {
   "cell_type": "code",
   "execution_count": 13,
   "id": "191edbb4",
   "metadata": {
    "execution": {
     "iopub.execute_input": "2024-05-26T11:52:32.696916Z",
     "iopub.status.busy": "2024-05-26T11:52:32.696498Z",
     "iopub.status.idle": "2024-05-26T11:52:32.702966Z",
     "shell.execute_reply": "2024-05-26T11:52:32.702073Z"
    },
    "papermill": {
     "duration": 0.024631,
     "end_time": "2024-05-26T11:52:32.704875",
     "exception": false,
     "start_time": "2024-05-26T11:52:32.680244",
     "status": "completed"
    },
    "tags": []
   },
   "outputs": [
    {
     "data": {
      "text/plain": [
       "[]"
      ]
     },
     "execution_count": 13,
     "metadata": {},
     "output_type": "execute_result"
    }
   ],
   "source": [
    "# list of variables that contain year information\n",
    "year_feature = [feature for feature in numerical_features if 'Yr' in feature or 'Year' in feature]\n",
    "\n",
    "year_feature"
   ]
  },
  {
   "cell_type": "markdown",
   "id": "5aee3dbc",
   "metadata": {
    "papermill": {
     "duration": 0.014725,
     "end_time": "2024-05-26T11:52:32.734752",
     "exception": false,
     "start_time": "2024-05-26T11:52:32.720027",
     "status": "completed"
    },
    "tags": []
   },
   "source": [
    "## Numerical variables are usually of 2 type\n",
    "## 1. Discrete Features and Continous Features"
   ]
  },
  {
   "cell_type": "code",
   "execution_count": 14,
   "id": "cfdd595d",
   "metadata": {
    "execution": {
     "iopub.execute_input": "2024-05-26T11:52:32.767332Z",
     "iopub.status.busy": "2024-05-26T11:52:32.766165Z",
     "iopub.status.idle": "2024-05-26T11:52:32.774574Z",
     "shell.execute_reply": "2024-05-26T11:52:32.773479Z"
    },
    "papermill": {
     "duration": 0.027025,
     "end_time": "2024-05-26T11:52:32.776782",
     "exception": false,
     "start_time": "2024-05-26T11:52:32.749757",
     "status": "completed"
    },
    "tags": []
   },
   "outputs": [
    {
     "name": "stdout",
     "output_type": "stream",
     "text": [
      "Discrete Variables Count: 1\n"
     ]
    }
   ],
   "source": [
    "## Numerical variables are usually of 2 type\n",
    "## 1. Continous variable and Discrete Variables\n",
    "\n",
    "discrete_feature=[feature for feature in numerical_features if len(dataset[feature].unique())<25 and feature not in year_feature+['Id']]\n",
    "print(\"Discrete Variables Count: {}\".format(len(discrete_feature)))"
   ]
  },
  {
   "cell_type": "code",
   "execution_count": 15,
   "id": "b1a1aebd",
   "metadata": {
    "execution": {
     "iopub.execute_input": "2024-05-26T11:52:32.867520Z",
     "iopub.status.busy": "2024-05-26T11:52:32.867138Z",
     "iopub.status.idle": "2024-05-26T11:52:32.872799Z",
     "shell.execute_reply": "2024-05-26T11:52:32.872068Z"
    },
    "papermill": {
     "duration": 0.023686,
     "end_time": "2024-05-26T11:52:32.874625",
     "exception": false,
     "start_time": "2024-05-26T11:52:32.850939",
     "status": "completed"
    },
    "tags": []
   },
   "outputs": [
    {
     "data": {
      "text/plain": [
       "['Recurred']"
      ]
     },
     "execution_count": 15,
     "metadata": {},
     "output_type": "execute_result"
    }
   ],
   "source": [
    "discrete_feature"
   ]
  },
  {
   "cell_type": "code",
   "execution_count": 16,
   "id": "d825429b",
   "metadata": {
    "execution": {
     "iopub.execute_input": "2024-05-26T11:52:32.907241Z",
     "iopub.status.busy": "2024-05-26T11:52:32.906407Z",
     "iopub.status.idle": "2024-05-26T11:52:32.912628Z",
     "shell.execute_reply": "2024-05-26T11:52:32.911411Z"
    },
    "papermill": {
     "duration": 0.024858,
     "end_time": "2024-05-26T11:52:32.914799",
     "exception": false,
     "start_time": "2024-05-26T11:52:32.889941",
     "status": "completed"
    },
    "tags": []
   },
   "outputs": [
    {
     "name": "stdout",
     "output_type": "stream",
     "text": [
      "Continuous feature Count 1\n"
     ]
    }
   ],
   "source": [
    "continuous_feature=[feature for feature in numerical_features if feature not in discrete_feature]\n",
    "print(\"Continuous feature Count {}\".format(len(continuous_feature)))"
   ]
  },
  {
   "cell_type": "code",
   "execution_count": 17,
   "id": "21c243ea",
   "metadata": {
    "execution": {
     "iopub.execute_input": "2024-05-26T11:52:32.947765Z",
     "iopub.status.busy": "2024-05-26T11:52:32.947340Z",
     "iopub.status.idle": "2024-05-26T11:52:33.263421Z",
     "shell.execute_reply": "2024-05-26T11:52:33.262622Z"
    },
    "papermill": {
     "duration": 0.335099,
     "end_time": "2024-05-26T11:52:33.265527",
     "exception": false,
     "start_time": "2024-05-26T11:52:32.930428",
     "status": "completed"
    },
    "tags": []
   },
   "outputs": [
    {
     "data": {
      "image/png": "[encoded data removed]",
      "text/plain": [
       "<Figure size 640x480 with 1 Axes>"
      ]
     },
     "metadata": {},
     "output_type": "display_data"
    }
   ],
   "source": [
    "## Lets analyse the continuous values by creating histograms to understand the distribution\n",
    "\n",
    "for feature in continuous_feature:\n",
    "    data=dataset.copy()\n",
    "    data[feature].hist(bins=25)\n",
    "    plt.xlabel(feature)\n",
    "    plt.ylabel(\"Count\")\n",
    "    plt.title(feature)\n",
    "    plt.show()"
   ]
  },
  {
   "cell_type": "markdown",
   "id": "bdb6d332",
   "metadata": {
    "papermill": {
     "duration": 0.015925,
     "end_time": "2024-05-26T11:52:33.297788",
     "exception": false,
     "start_time": "2024-05-26T11:52:33.281863",
     "status": "completed"
    },
    "tags": []
   },
   "source": [
    "### Outliers In Numerical Feature"
   ]
  },
  {
   "cell_type": "code",
   "execution_count": 18,
   "id": "7d77e553",
   "metadata": {
    "execution": {
     "iopub.execute_input": "2024-05-26T11:52:33.331309Z",
     "iopub.status.busy": "2024-05-26T11:52:33.330747Z",
     "iopub.status.idle": "2024-05-26T11:52:33.544527Z",
     "shell.execute_reply": "2024-05-26T11:52:33.543716Z"
    },
    "papermill": {
     "duration": 0.232933,
     "end_time": "2024-05-26T11:52:33.546705",
     "exception": false,
     "start_time": "2024-05-26T11:52:33.313772",
     "status": "completed"
    },
    "tags": []
   },
   "outputs": [
    {
     "data": {
      "image/png": "[encoded data removed]",
      "text/plain": [
       "<Figure size 640x480 with 1 Axes>"
      ]
     },
     "metadata": {},
     "output_type": "display_data"
    }
   ],
   "source": [
    "for feature in continuous_feature:\n",
    "    data=dataset.copy()\n",
    "    if 0 in data[feature].unique():\n",
    "        pass\n",
    "    else:\n",
    "        data[feature]=np.log(data[feature])\n",
    "        data.boxplot(column=feature)\n",
    "        plt.ylabel(feature)\n",
    "        plt.title(feature)\n",
    "        plt.show()\n",
    "        "
   ]
  },
  {
   "cell_type": "markdown",
   "id": "8ba5d50d",
   "metadata": {
    "papermill": {
     "duration": 0.016003,
     "end_time": "2024-05-26T11:52:33.579142",
     "exception": false,
     "start_time": "2024-05-26T11:52:33.563139",
     "status": "completed"
    },
    "tags": []
   },
   "source": [
    "## Categorical Features"
   ]
  },
  {
   "cell_type": "code",
   "execution_count": 19,
   "id": "f49a2338",
   "metadata": {
    "execution": {
     "iopub.execute_input": "2024-05-26T11:52:33.614385Z",
     "iopub.status.busy": "2024-05-26T11:52:33.613416Z",
     "iopub.status.idle": "2024-05-26T11:52:33.621562Z",
     "shell.execute_reply": "2024-05-26T11:52:33.620605Z"
    },
    "papermill": {
     "duration": 0.027948,
     "end_time": "2024-05-26T11:52:33.623601",
     "exception": false,
     "start_time": "2024-05-26T11:52:33.595653",
     "status": "completed"
    },
    "tags": []
   },
   "outputs": [
    {
     "data": {
      "text/plain": [
       "['Gender',\n",
       " 'Smoking',\n",
       " 'Hx Smoking',\n",
       " 'Hx Radiothreapy',\n",
       " 'Thyroid Function',\n",
       " 'Physical Examination',\n",
       " 'Adenopathy',\n",
       " 'Pathology',\n",
       " 'Focality',\n",
       " 'Risk',\n",
       " 'T',\n",
       " 'N',\n",
       " 'M',\n",
       " 'Stage',\n",
       " 'Response']"
      ]
     },
     "execution_count": 19,
     "metadata": {},
     "output_type": "execute_result"
    }
   ],
   "source": [
    "categorical_features=[feature for feature in dataset.columns if data[feature].dtypes=='O']\n",
    "categorical_features"
   ]
  },
  {
   "cell_type": "code",
   "execution_count": 20,
   "id": "dd472669",
   "metadata": {
    "execution": {
     "iopub.execute_input": "2024-05-26T11:52:33.658505Z",
     "iopub.status.busy": "2024-05-26T11:52:33.657844Z",
     "iopub.status.idle": "2024-05-26T11:52:33.676135Z",
     "shell.execute_reply": "2024-05-26T11:52:33.675069Z"
    },
    "papermill": {
     "duration": 0.038148,
     "end_time": "2024-05-26T11:52:33.678179",
     "exception": false,
     "start_time": "2024-05-26T11:52:33.640031",
     "status": "completed"
    },
    "tags": []
   },
   "outputs": [
    {
     "data": {
      "text/html": [
       "<div>\n",
       "<style scoped>\n",
       "    .dataframe tbody tr th:only-of-type {\n",
       "        vertical-align: middle;\n",
       "    }\n",
       "\n",
       "    .dataframe tbody tr th {\n",
       "        vertical-align: top;\n",
       "    }\n",
       "\n",
       "    .dataframe thead th {\n",
       "        text-align: right;\n",
       "    }\n",
       "</style>\n",
       "<table border=\"1\" class=\"dataframe\">\n",
       "  <thead>\n",
       "    <tr style=\"text-align: right;\">\n",
       "      <th></th>\n",
       "      <th>Gender</th>\n",
       "      <th>Smoking</th>\n",
       "      <th>Hx Smoking</th>\n",
       "      <th>Hx Radiothreapy</th>\n",
       "      <th>Thyroid Function</th>\n",
       "      <th>Physical Examination</th>\n",
       "      <th>Adenopathy</th>\n",
       "      <th>Pathology</th>\n",
       "      <th>Focality</th>\n",
       "      <th>Risk</th>\n",
       "      <th>T</th>\n",
       "      <th>N</th>\n",
       "      <th>M</th>\n",
       "      <th>Stage</th>\n",
       "      <th>Response</th>\n",
       "    </tr>\n",
       "  </thead>\n",
       "  <tbody>\n",
       "    <tr>\n",
       "      <th>0</th>\n",
       "      <td>F</td>\n",
       "      <td>No</td>\n",
       "      <td>No</td>\n",
       "      <td>No</td>\n",
       "      <td>Euthyroid</td>\n",
       "      <td>Single nodular goiter-left</td>\n",
       "      <td>No</td>\n",
       "      <td>Micropapillary</td>\n",
       "      <td>Uni-Focal</td>\n",
       "      <td>Low</td>\n",
       "      <td>T1a</td>\n",
       "      <td>N0</td>\n",
       "      <td>M0</td>\n",
       "      <td>I</td>\n",
       "      <td>Indeterminate</td>\n",
       "    </tr>\n",
       "    <tr>\n",
       "      <th>1</th>\n",
       "      <td>F</td>\n",
       "      <td>No</td>\n",
       "      <td>Yes</td>\n",
       "      <td>No</td>\n",
       "      <td>Euthyroid</td>\n",
       "      <td>Multinodular goiter</td>\n",
       "      <td>No</td>\n",
       "      <td>Micropapillary</td>\n",
       "      <td>Uni-Focal</td>\n",
       "      <td>Low</td>\n",
       "      <td>T1a</td>\n",
       "      <td>N0</td>\n",
       "      <td>M0</td>\n",
       "      <td>I</td>\n",
       "      <td>Excellent</td>\n",
       "    </tr>\n",
       "    <tr>\n",
       "      <th>2</th>\n",
       "      <td>F</td>\n",
       "      <td>No</td>\n",
       "      <td>No</td>\n",
       "      <td>No</td>\n",
       "      <td>Euthyroid</td>\n",
       "      <td>Single nodular goiter-right</td>\n",
       "      <td>No</td>\n",
       "      <td>Micropapillary</td>\n",
       "      <td>Uni-Focal</td>\n",
       "      <td>Low</td>\n",
       "      <td>T1a</td>\n",
       "      <td>N0</td>\n",
       "      <td>M0</td>\n",
       "      <td>I</td>\n",
       "      <td>Excellent</td>\n",
       "    </tr>\n",
       "    <tr>\n",
       "      <th>3</th>\n",
       "      <td>F</td>\n",
       "      <td>No</td>\n",
       "      <td>No</td>\n",
       "      <td>No</td>\n",
       "      <td>Euthyroid</td>\n",
       "      <td>Single nodular goiter-right</td>\n",
       "      <td>No</td>\n",
       "      <td>Micropapillary</td>\n",
       "      <td>Uni-Focal</td>\n",
       "      <td>Low</td>\n",
       "      <td>T1a</td>\n",
       "      <td>N0</td>\n",
       "      <td>M0</td>\n",
       "      <td>I</td>\n",
       "      <td>Excellent</td>\n",
       "    </tr>\n",
       "    <tr>\n",
       "      <th>4</th>\n",
       "      <td>F</td>\n",
       "      <td>No</td>\n",
       "      <td>No</td>\n",
       "      <td>No</td>\n",
       "      <td>Euthyroid</td>\n",
       "      <td>Multinodular goiter</td>\n",
       "      <td>No</td>\n",
       "      <td>Micropapillary</td>\n",
       "      <td>Multi-Focal</td>\n",
       "      <td>Low</td>\n",
       "      <td>T1a</td>\n",
       "      <td>N0</td>\n",
       "      <td>M0</td>\n",
       "      <td>I</td>\n",
       "      <td>Excellent</td>\n",
       "    </tr>\n",
       "  </tbody>\n",
       "</table>\n",
       "</div>"
      ],
      "text/plain": [
       "  Gender Smoking Hx Smoking Hx Radiothreapy Thyroid Function  \\\n",
       "0      F      No         No              No        Euthyroid   \n",
       "1      F      No        Yes              No        Euthyroid   \n",
       "2      F      No         No              No        Euthyroid   \n",
       "3      F      No         No              No        Euthyroid   \n",
       "4      F      No         No              No        Euthyroid   \n",
       "\n",
       "          Physical Examination Adenopathy       Pathology     Focality Risk  \\\n",
       "0   Single nodular goiter-left         No  Micropapillary    Uni-Focal  Low   \n",
       "1          Multinodular goiter         No  Micropapillary    Uni-Focal  Low   \n",
       "2  Single nodular goiter-right         No  Micropapillary    Uni-Focal  Low   \n",
       "3  Single nodular goiter-right         No  Micropapillary    Uni-Focal  Low   \n",
       "4          Multinodular goiter         No  Micropapillary  Multi-Focal  Low   \n",
       "\n",
       "     T   N   M Stage       Response  \n",
       "0  T1a  N0  M0     I  Indeterminate  \n",
       "1  T1a  N0  M0     I      Excellent  \n",
       "2  T1a  N0  M0     I      Excellent  \n",
       "3  T1a  N0  M0     I      Excellent  \n",
       "4  T1a  N0  M0     I      Excellent  "
      ]
     },
     "execution_count": 20,
     "metadata": {},
     "output_type": "execute_result"
    }
   ],
   "source": [
    "dataset[categorical_features].head()"
   ]
  },
  {
   "cell_type": "code",
   "execution_count": 21,
   "id": "743aa7b4",
   "metadata": {
    "execution": {
     "iopub.execute_input": "2024-05-26T11:52:33.714003Z",
     "iopub.status.busy": "2024-05-26T11:52:33.713564Z",
     "iopub.status.idle": "2024-05-26T11:52:33.722343Z",
     "shell.execute_reply": "2024-05-26T11:52:33.721094Z"
    },
    "papermill": {
     "duration": 0.02886,
     "end_time": "2024-05-26T11:52:33.724439",
     "exception": false,
     "start_time": "2024-05-26T11:52:33.695579",
     "status": "completed"
    },
    "tags": []
   },
   "outputs": [
    {
     "name": "stdout",
     "output_type": "stream",
     "text": [
      "The feature is Gender and number of categories are 2\n",
      "The feature is Smoking and number of categories are 2\n",
      "The feature is Hx Smoking and number of categories are 2\n",
      "The feature is Hx Radiothreapy and number of categories are 2\n",
      "The feature is Thyroid Function and number of categories are 5\n",
      "The feature is Physical Examination and number of categories are 5\n",
      "The feature is Adenopathy and number of categories are 6\n",
      "The feature is Pathology and number of categories are 4\n",
      "The feature is Focality and number of categories are 2\n",
      "The feature is Risk and number of categories are 3\n",
      "The feature is T and number of categories are 7\n",
      "The feature is N and number of categories are 3\n",
      "The feature is M and number of categories are 2\n",
      "The feature is Stage and number of categories are 5\n",
      "The feature is Response and number of categories are 4\n"
     ]
    }
   ],
   "source": [
    "for feature in categorical_features:\n",
    "    print('The feature is {} and number of categories are {}'.format(feature,len(dataset[feature].unique())))"
   ]
  },
  {
   "cell_type": "code",
   "execution_count": 22,
   "id": "285ecdf5",
   "metadata": {
    "execution": {
     "iopub.execute_input": "2024-05-26T11:52:33.760276Z",
     "iopub.status.busy": "2024-05-26T11:52:33.759508Z",
     "iopub.status.idle": "2024-05-26T11:52:37.199989Z",
     "shell.execute_reply": "2024-05-26T11:52:37.198899Z"
    },
    "papermill": {
     "duration": 3.461432,
     "end_time": "2024-05-26T11:52:37.202458",
     "exception": false,
     "start_time": "2024-05-26T11:52:33.741026",
     "status": "completed"
    },
    "tags": []
   },
   "outputs": [
    {
     "data": {
      "image/png": "[encoded data removed]",
      "text/plain": [
       "<Figure size 640x480 with 1 Axes>"
      ]
     },
     "metadata": {},
     "output_type": "display_data"
    },
    {
     "data": {
      "image/png": "[encoded data removed]",
      "text/plain": [
       "<Figure size 640x480 with 1 Axes>"
      ]
     },
     "metadata": {},
     "output_type": "display_data"
    },
    {
     "data": {
      "image/png": "[encoded data removed]",
      "text/plain": [
       "<Figure size 640x480 with 1 Axes>"
      ]
     },
     "metadata": {},
     "output_type": "display_data"
    },
    {
     "data": {
      "image/png": "[encoded data removed]",
      "text/plain": [
       "<Figure size 640x480 with 1 Axes>"
      ]
     },
     "metadata": {},
     "output_type": "display_data"
    },
    {
     "data": {
      "image/png": "[encoded data removed]",
      "text/plain": [
       "<Figure size 640x480 with 1 Axes>"
      ]
     },
     "metadata": {},
     "output_type": "display_data"
    },
    {
     "data": {
      "image/png": "[encoded data removed]",
      "text/plain": [
       "<Figure size 640x480 with 1 Axes>"
      ]
     },
     "metadata": {},
     "output_type": "display_data"
    },
    {
     "data": {
      "image/png": "[encoded data removed]",
      "text/plain": [
       "<Figure size 640x480 with 1 Axes>"
      ]
     },
     "metadata": {},
     "output_type": "display_data"
    },
    {
     "data": {
      "image/png": "[encoded data removed]",
      "text/plain": [
       "<Figure size 640x480 with 1 Axes>"
      ]
     },
     "metadata": {},
     "output_type": "display_data"
    },
    {
     "data": {
      "image/png": "[encoded data removed]",
      "text/plain": [
       "<Figure size 640x480 with 1 Axes>"
      ]
     },
     "metadata": {},
     "output_type": "display_data"
    },
    {
     "data": {
      "image/png": "[encoded data removed]",
      "text/plain": [
       "<Figure size 640x480 with 1 Axes>"
      ]
     },
     "metadata": {},
     "output_type": "display_data"
    },
    {
     "data": {
      "image/png": "[encoded data removed]",
      "text/plain": [
       "<Figure size 640x480 with 1 Axes>"
      ]
     },
     "metadata": {},
     "output_type": "display_data"
    },
    {
     "data": {
      "image/png": "[encoded data removed]",
      "text/plain": [
       "<Figure size 640x480 with 1 Axes>"
      ]
     },
     "metadata": {},
     "output_type": "display_data"
    },
    {
     "data": {
      "image/png": "[encoded data removed]",
      "text/plain": [
       "<Figure size 640x480 with 1 Axes>"
      ]
     },
     "metadata": {},
     "output_type": "display_data"
    },
    {
     "data": {
      "image/png": "[encoded data removed]",
      "text/plain": [
       "<Figure size 640x480 with 1 Axes>"
      ]
     },
     "metadata": {},
     "output_type": "display_data"
    },
    {
     "data": {
      "image/png": "[encoded data removed]",
      "text/plain": [
       "<Figure size 640x480 with 1 Axes>"
      ]
     },
     "metadata": {},
     "output_type": "display_data"
    }
   ],
   "source": [
    "for feature in categorical_features:\n",
    "    data=dataset.copy()\n",
    "    data.groupby(feature)['Recurred'].mean().plot.bar()\n",
    "    plt.xlabel(feature)\n",
    "    plt.ylabel('Recurred')\n",
    "    plt.title(feature)\n",
    "    plt.show()"
   ]
  },
  {
   "cell_type": "code",
   "execution_count": 23,
   "id": "18fb1997",
   "metadata": {
    "execution": {
     "iopub.execute_input": "2024-05-26T11:52:37.248610Z",
     "iopub.status.busy": "2024-05-26T11:52:37.247584Z",
     "iopub.status.idle": "2024-05-26T11:52:37.252012Z",
     "shell.execute_reply": "2024-05-26T11:52:37.251037Z"
    },
    "papermill": {
     "duration": 0.029422,
     "end_time": "2024-05-26T11:52:37.254025",
     "exception": false,
     "start_time": "2024-05-26T11:52:37.224603",
     "status": "completed"
    },
    "tags": []
   },
   "outputs": [],
   "source": [
    "# from sklearn import preprocessing\n",
    "# le = preprocessing.LabelEncoder()\n",
    "# dataset['NObeyesdad']=le.fit_transform(dataset['NObeyesdad'])\n",
    "# le_name_mapping = dict(zip(le.classes_, le.transform(le.classes_)))\n",
    "# le_name_mapping"
   ]
  },
  {
   "cell_type": "code",
   "execution_count": 24,
   "id": "bece477c",
   "metadata": {
    "execution": {
     "iopub.execute_input": "2024-05-26T11:52:37.299707Z",
     "iopub.status.busy": "2024-05-26T11:52:37.298635Z",
     "iopub.status.idle": "2024-05-26T11:52:37.312703Z",
     "shell.execute_reply": "2024-05-26T11:52:37.311609Z"
    },
    "papermill": {
     "duration": 0.039266,
     "end_time": "2024-05-26T11:52:37.314944",
     "exception": false,
     "start_time": "2024-05-26T11:52:37.275678",
     "status": "completed"
    },
    "tags": []
   },
   "outputs": [],
   "source": [
    "\n",
    "le_cat_name=dict()\n",
    "cat_le = preprocessing.LabelEncoder()\n",
    "for i in categorical_features:\n",
    "    dataset[i]=cat_le.fit_transform(dataset[i])\n",
    "    le_cat_name[i] = dict(zip(cat_le.classes_, cat_le.transform(cat_le.classes_)))"
   ]
  },
  {
   "cell_type": "code",
   "execution_count": 25,
   "id": "0b71d462",
   "metadata": {
    "execution": {
     "iopub.execute_input": "2024-05-26T11:52:37.369248Z",
     "iopub.status.busy": "2024-05-26T11:52:37.368721Z",
     "iopub.status.idle": "2024-05-26T11:52:37.388974Z",
     "shell.execute_reply": "2024-05-26T11:52:37.387846Z"
    },
    "papermill": {
     "duration": 0.05095,
     "end_time": "2024-05-26T11:52:37.391154",
     "exception": false,
     "start_time": "2024-05-26T11:52:37.340204",
     "status": "completed"
    },
    "tags": []
   },
   "outputs": [
    {
     "data": {
      "text/html": [
       "<div>\n",
       "<style scoped>\n",
       "    .dataframe tbody tr th:only-of-type {\n",
       "        vertical-align: middle;\n",
       "    }\n",
       "\n",
       "    .dataframe tbody tr th {\n",
       "        vertical-align: top;\n",
       "    }\n",
       "\n",
       "    .dataframe thead th {\n",
       "        text-align: right;\n",
       "    }\n",
       "</style>\n",
       "<table border=\"1\" class=\"dataframe\">\n",
       "  <thead>\n",
       "    <tr style=\"text-align: right;\">\n",
       "      <th></th>\n",
       "      <th>0</th>\n",
       "      <th>1</th>\n",
       "    </tr>\n",
       "  </thead>\n",
       "  <tbody>\n",
       "    <tr>\n",
       "      <th>0</th>\n",
       "      <td>Gender</td>\n",
       "      <td>{'F': 0, 'M': 1}</td>\n",
       "    </tr>\n",
       "    <tr>\n",
       "      <th>1</th>\n",
       "      <td>Smoking</td>\n",
       "      <td>{'No': 0, 'Yes': 1}</td>\n",
       "    </tr>\n",
       "    <tr>\n",
       "      <th>2</th>\n",
       "      <td>Hx Smoking</td>\n",
       "      <td>{'No': 0, 'Yes': 1}</td>\n",
       "    </tr>\n",
       "    <tr>\n",
       "      <th>3</th>\n",
       "      <td>Hx Radiothreapy</td>\n",
       "      <td>{'No': 0, 'Yes': 1}</td>\n",
       "    </tr>\n",
       "    <tr>\n",
       "      <th>4</th>\n",
       "      <td>Thyroid Function</td>\n",
       "      <td>{'Clinical Hyperthyroidism': 0, 'Clinical Hypo...</td>\n",
       "    </tr>\n",
       "    <tr>\n",
       "      <th>5</th>\n",
       "      <td>Physical Examination</td>\n",
       "      <td>{'Diffuse goiter': 0, 'Multinodular goiter': 1...</td>\n",
       "    </tr>\n",
       "    <tr>\n",
       "      <th>6</th>\n",
       "      <td>Adenopathy</td>\n",
       "      <td>{'Bilateral': 0, 'Extensive': 1, 'Left': 2, 'N...</td>\n",
       "    </tr>\n",
       "    <tr>\n",
       "      <th>7</th>\n",
       "      <td>Pathology</td>\n",
       "      <td>{'Follicular': 0, 'Hurthel cell': 1, 'Micropap...</td>\n",
       "    </tr>\n",
       "    <tr>\n",
       "      <th>8</th>\n",
       "      <td>Focality</td>\n",
       "      <td>{'Multi-Focal': 0, 'Uni-Focal': 1}</td>\n",
       "    </tr>\n",
       "    <tr>\n",
       "      <th>9</th>\n",
       "      <td>Risk</td>\n",
       "      <td>{'High': 0, 'Intermediate': 1, 'Low': 2}</td>\n",
       "    </tr>\n",
       "    <tr>\n",
       "      <th>10</th>\n",
       "      <td>T</td>\n",
       "      <td>{'T1a': 0, 'T1b': 1, 'T2': 2, 'T3a': 3, 'T3b':...</td>\n",
       "    </tr>\n",
       "    <tr>\n",
       "      <th>11</th>\n",
       "      <td>N</td>\n",
       "      <td>{'N0': 0, 'N1a': 1, 'N1b': 2}</td>\n",
       "    </tr>\n",
       "    <tr>\n",
       "      <th>12</th>\n",
       "      <td>M</td>\n",
       "      <td>{'M0': 0, 'M1': 1}</td>\n",
       "    </tr>\n",
       "    <tr>\n",
       "      <th>13</th>\n",
       "      <td>Stage</td>\n",
       "      <td>{'I': 0, 'II': 1, 'III': 2, 'IVA': 3, 'IVB': 4}</td>\n",
       "    </tr>\n",
       "    <tr>\n",
       "      <th>14</th>\n",
       "      <td>Response</td>\n",
       "      <td>{'Biochemical Incomplete': 0, 'Excellent': 1, ...</td>\n",
       "    </tr>\n",
       "  </tbody>\n",
       "</table>\n",
       "</div>"
      ],
      "text/plain": [
       "                       0                                                  1\n",
       "0                 Gender                                   {'F': 0, 'M': 1}\n",
       "1                Smoking                                {'No': 0, 'Yes': 1}\n",
       "2             Hx Smoking                                {'No': 0, 'Yes': 1}\n",
       "3        Hx Radiothreapy                                {'No': 0, 'Yes': 1}\n",
       "4       Thyroid Function  {'Clinical Hyperthyroidism': 0, 'Clinical Hypo...\n",
       "5   Physical Examination  {'Diffuse goiter': 0, 'Multinodular goiter': 1...\n",
       "6             Adenopathy  {'Bilateral': 0, 'Extensive': 1, 'Left': 2, 'N...\n",
       "7              Pathology  {'Follicular': 0, 'Hurthel cell': 1, 'Micropap...\n",
       "8               Focality                 {'Multi-Focal': 0, 'Uni-Focal': 1}\n",
       "9                   Risk           {'High': 0, 'Intermediate': 1, 'Low': 2}\n",
       "10                     T  {'T1a': 0, 'T1b': 1, 'T2': 2, 'T3a': 3, 'T3b':...\n",
       "11                     N                      {'N0': 0, 'N1a': 1, 'N1b': 2}\n",
       "12                     M                                 {'M0': 0, 'M1': 1}\n",
       "13                 Stage    {'I': 0, 'II': 1, 'III': 2, 'IVA': 3, 'IVB': 4}\n",
       "14              Response  {'Biochemical Incomplete': 0, 'Excellent': 1, ..."
      ]
     },
     "execution_count": 25,
     "metadata": {},
     "output_type": "execute_result"
    }
   ],
   "source": [
    "pd.DataFrame(le_cat_name.items())"
   ]
  },
  {
   "cell_type": "code",
   "execution_count": 26,
   "id": "09a418fe",
   "metadata": {
    "execution": {
     "iopub.execute_input": "2024-05-26T11:52:37.437856Z",
     "iopub.status.busy": "2024-05-26T11:52:37.437443Z",
     "iopub.status.idle": "2024-05-26T11:52:37.453557Z",
     "shell.execute_reply": "2024-05-26T11:52:37.452207Z"
    },
    "papermill": {
     "duration": 0.043267,
     "end_time": "2024-05-26T11:52:37.456824",
     "exception": false,
     "start_time": "2024-05-26T11:52:37.413557",
     "status": "completed"
    },
    "tags": []
   },
   "outputs": [
    {
     "data": {
      "text/html": [
       "<div>\n",
       "<style scoped>\n",
       "    .dataframe tbody tr th:only-of-type {\n",
       "        vertical-align: middle;\n",
       "    }\n",
       "\n",
       "    .dataframe tbody tr th {\n",
       "        vertical-align: top;\n",
       "    }\n",
       "\n",
       "    .dataframe thead th {\n",
       "        text-align: right;\n",
       "    }\n",
       "</style>\n",
       "<table border=\"1\" class=\"dataframe\">\n",
       "  <thead>\n",
       "    <tr style=\"text-align: right;\">\n",
       "      <th></th>\n",
       "      <th>Age</th>\n",
       "      <th>Gender</th>\n",
       "      <th>Smoking</th>\n",
       "      <th>Hx Smoking</th>\n",
       "      <th>Hx Radiothreapy</th>\n",
       "      <th>Thyroid Function</th>\n",
       "      <th>Physical Examination</th>\n",
       "      <th>Adenopathy</th>\n",
       "      <th>Pathology</th>\n",
       "      <th>Focality</th>\n",
       "      <th>Risk</th>\n",
       "      <th>T</th>\n",
       "      <th>N</th>\n",
       "      <th>M</th>\n",
       "      <th>Stage</th>\n",
       "      <th>Response</th>\n",
       "      <th>Recurred</th>\n",
       "    </tr>\n",
       "  </thead>\n",
       "  <tbody>\n",
       "    <tr>\n",
       "      <th>0</th>\n",
       "      <td>27</td>\n",
       "      <td>0</td>\n",
       "      <td>0</td>\n",
       "      <td>0</td>\n",
       "      <td>0</td>\n",
       "      <td>2</td>\n",
       "      <td>3</td>\n",
       "      <td>3</td>\n",
       "      <td>2</td>\n",
       "      <td>1</td>\n",
       "      <td>2</td>\n",
       "      <td>0</td>\n",
       "      <td>0</td>\n",
       "      <td>0</td>\n",
       "      <td>0</td>\n",
       "      <td>2</td>\n",
       "      <td>0</td>\n",
       "    </tr>\n",
       "    <tr>\n",
       "      <th>1</th>\n",
       "      <td>34</td>\n",
       "      <td>0</td>\n",
       "      <td>0</td>\n",
       "      <td>1</td>\n",
       "      <td>0</td>\n",
       "      <td>2</td>\n",
       "      <td>1</td>\n",
       "      <td>3</td>\n",
       "      <td>2</td>\n",
       "      <td>1</td>\n",
       "      <td>2</td>\n",
       "      <td>0</td>\n",
       "      <td>0</td>\n",
       "      <td>0</td>\n",
       "      <td>0</td>\n",
       "      <td>1</td>\n",
       "      <td>0</td>\n",
       "    </tr>\n",
       "    <tr>\n",
       "      <th>2</th>\n",
       "      <td>30</td>\n",
       "      <td>0</td>\n",
       "      <td>0</td>\n",
       "      <td>0</td>\n",
       "      <td>0</td>\n",
       "      <td>2</td>\n",
       "      <td>4</td>\n",
       "      <td>3</td>\n",
       "      <td>2</td>\n",
       "      <td>1</td>\n",
       "      <td>2</td>\n",
       "      <td>0</td>\n",
       "      <td>0</td>\n",
       "      <td>0</td>\n",
       "      <td>0</td>\n",
       "      <td>1</td>\n",
       "      <td>0</td>\n",
       "    </tr>\n",
       "    <tr>\n",
       "      <th>3</th>\n",
       "      <td>62</td>\n",
       "      <td>0</td>\n",
       "      <td>0</td>\n",
       "      <td>0</td>\n",
       "      <td>0</td>\n",
       "      <td>2</td>\n",
       "      <td>4</td>\n",
       "      <td>3</td>\n",
       "      <td>2</td>\n",
       "      <td>1</td>\n",
       "      <td>2</td>\n",
       "      <td>0</td>\n",
       "      <td>0</td>\n",
       "      <td>0</td>\n",
       "      <td>0</td>\n",
       "      <td>1</td>\n",
       "      <td>0</td>\n",
       "    </tr>\n",
       "    <tr>\n",
       "      <th>4</th>\n",
       "      <td>62</td>\n",
       "      <td>0</td>\n",
       "      <td>0</td>\n",
       "      <td>0</td>\n",
       "      <td>0</td>\n",
       "      <td>2</td>\n",
       "      <td>1</td>\n",
       "      <td>3</td>\n",
       "      <td>2</td>\n",
       "      <td>0</td>\n",
       "      <td>2</td>\n",
       "      <td>0</td>\n",
       "      <td>0</td>\n",
       "      <td>0</td>\n",
       "      <td>0</td>\n",
       "      <td>1</td>\n",
       "      <td>0</td>\n",
       "    </tr>\n",
       "  </tbody>\n",
       "</table>\n",
       "</div>"
      ],
      "text/plain": [
       "   Age  Gender  Smoking  Hx Smoking  Hx Radiothreapy  Thyroid Function  \\\n",
       "0   27       0        0           0                0                 2   \n",
       "1   34       0        0           1                0                 2   \n",
       "2   30       0        0           0                0                 2   \n",
       "3   62       0        0           0                0                 2   \n",
       "4   62       0        0           0                0                 2   \n",
       "\n",
       "   Physical Examination  Adenopathy  Pathology  Focality  Risk  T  N  M  \\\n",
       "0                     3           3          2         1     2  0  0  0   \n",
       "1                     1           3          2         1     2  0  0  0   \n",
       "2                     4           3          2         1     2  0  0  0   \n",
       "3                     4           3          2         1     2  0  0  0   \n",
       "4                     1           3          2         0     2  0  0  0   \n",
       "\n",
       "   Stage  Response  Recurred  \n",
       "0      0         2         0  \n",
       "1      0         1         0  \n",
       "2      0         1         0  \n",
       "3      0         1         0  \n",
       "4      0         1         0  "
      ]
     },
     "execution_count": 26,
     "metadata": {},
     "output_type": "execute_result"
    }
   ],
   "source": [
    "dataset.head()"
   ]
  },
  {
   "cell_type": "markdown",
   "id": "3f16df0a",
   "metadata": {
    "papermill": {
     "duration": 0.02253,
     "end_time": "2024-05-26T11:52:37.505804",
     "exception": false,
     "start_time": "2024-05-26T11:52:37.483274",
     "status": "completed"
    },
    "tags": []
   },
   "source": [
    "# Feature Slection"
   ]
  },
  {
   "cell_type": "code",
   "execution_count": 27,
   "id": "d97ece0a",
   "metadata": {
    "execution": {
     "iopub.execute_input": "2024-05-26T11:52:37.553339Z",
     "iopub.status.busy": "2024-05-26T11:52:37.552806Z",
     "iopub.status.idle": "2024-05-26T11:52:37.827482Z",
     "shell.execute_reply": "2024-05-26T11:52:37.826370Z"
    },
    "papermill": {
     "duration": 0.301016,
     "end_time": "2024-05-26T11:52:37.830170",
     "exception": false,
     "start_time": "2024-05-26T11:52:37.529154",
     "status": "completed"
    },
    "tags": []
   },
   "outputs": [],
   "source": [
    "from sklearn.linear_model import Lasso\n",
    "from sklearn.feature_selection import SelectFromModel"
   ]
  },
  {
   "cell_type": "code",
   "execution_count": 28,
   "id": "440f66b7",
   "metadata": {
    "execution": {
     "iopub.execute_input": "2024-05-26T11:52:37.877500Z",
     "iopub.status.busy": "2024-05-26T11:52:37.876491Z",
     "iopub.status.idle": "2024-05-26T11:52:37.883596Z",
     "shell.execute_reply": "2024-05-26T11:52:37.882806Z"
    },
    "papermill": {
     "duration": 0.033355,
     "end_time": "2024-05-26T11:52:37.885917",
     "exception": false,
     "start_time": "2024-05-26T11:52:37.852562",
     "status": "completed"
    },
    "tags": []
   },
   "outputs": [],
   "source": [
    "## Capture the dependent feature\n",
    "X=dataset.drop(['Recurred'],axis=1)\n",
    "y=dataset[['Recurred']]"
   ]
  },
  {
   "cell_type": "code",
   "execution_count": 29,
   "id": "add4953f",
   "metadata": {
    "execution": {
     "iopub.execute_input": "2024-05-26T11:52:37.932769Z",
     "iopub.status.busy": "2024-05-26T11:52:37.931964Z",
     "iopub.status.idle": "2024-05-26T11:52:37.939162Z",
     "shell.execute_reply": "2024-05-26T11:52:37.938097Z"
    },
    "papermill": {
     "duration": 0.032854,
     "end_time": "2024-05-26T11:52:37.941307",
     "exception": false,
     "start_time": "2024-05-26T11:52:37.908453",
     "status": "completed"
    },
    "tags": []
   },
   "outputs": [
    {
     "data": {
      "text/plain": [
       "((383, 16), (383, 1))"
      ]
     },
     "execution_count": 29,
     "metadata": {},
     "output_type": "execute_result"
    }
   ],
   "source": [
    "X.shape,y.shape"
   ]
  },
  {
   "cell_type": "code",
   "execution_count": 30,
   "id": "7fdbcacd",
   "metadata": {
    "execution": {
     "iopub.execute_input": "2024-05-26T11:52:37.987765Z",
     "iopub.status.busy": "2024-05-26T11:52:37.987008Z",
     "iopub.status.idle": "2024-05-26T11:52:38.005957Z",
     "shell.execute_reply": "2024-05-26T11:52:38.005113Z"
    },
    "papermill": {
     "duration": 0.04464,
     "end_time": "2024-05-26T11:52:38.008252",
     "exception": false,
     "start_time": "2024-05-26T11:52:37.963612",
     "status": "completed"
    },
    "tags": []
   },
   "outputs": [
    {
     "data": {
      "text/html": [
       "<style>#sk-container-id-1 {color: black;background-color: white;}#sk-container-id-1 pre{padding: 0;}#sk-container-id-1 div.sk-toggleable {background-color: white;}#sk-container-id-1 label.sk-toggleable__label {cursor: pointer;display: block;width: 100%;margin-bottom: 0;padding: 0.3em;box-sizing: border-box;text-align: center;}#sk-container-id-1 label.sk-toggleable__label-arrow:before {content: \"▸\";float: left;margin-right: 0.25em;color: #696969;}#sk-container-id-1 label.sk-toggleable__label-arrow:hover:before {color: black;}#sk-container-id-1 div.sk-estimator:hover label.sk-toggleable__label-arrow:before {color: black;}#sk-container-id-1 div.sk-toggleable__content {max-height: 0;max-width: 0;overflow: hidden;text-align: left;background-color: #f0f8ff;}#sk-container-id-1 div.sk-toggleable__content pre {margin: 0.2em;color: black;border-radius: 0.25em;background-color: #f0f8ff;}#sk-container-id-1 input.sk-toggleable__control:checked~div.sk-toggleable__content {max-height: 200px;max-width: 100%;overflow: auto;}#sk-container-id-1 input.sk-toggleable__control:checked~label.sk-toggleable__label-arrow:before {content: \"▾\";}#sk-container-id-1 div.sk-estimator input.sk-toggleable__control:checked~label.sk-toggleable__label {background-color: #d4ebff;}#sk-container-id-1 div.sk-label input.sk-toggleable__control:checked~label.sk-toggleable__label {background-color: #d4ebff;}#sk-container-id-1 input.sk-hidden--visually {border: 0;clip: rect(1px 1px 1px 1px);clip: rect(1px, 1px, 1px, 1px);height: 1px;margin: -1px;overflow: hidden;padding: 0;position: absolute;width: 1px;}#sk-container-id-1 div.sk-estimator {font-family: monospace;background-color: #f0f8ff;border: 1px dotted black;border-radius: 0.25em;box-sizing: border-box;margin-bottom: 0.5em;}#sk-container-id-1 div.sk-estimator:hover {background-color: #d4ebff;}#sk-container-id-1 div.sk-parallel-item::after {content: \"\";width: 100%;border-bottom: 1px solid gray;flex-grow: 1;}#sk-container-id-1 div.sk-label:hover label.sk-toggleable__label {background-color: #d4ebff;}#sk-container-id-1 div.sk-serial::before {content: \"\";position: absolute;border-left: 1px solid gray;box-sizing: border-box;top: 0;bottom: 0;left: 50%;z-index: 0;}#sk-container-id-1 div.sk-serial {display: flex;flex-direction: column;align-items: center;background-color: white;padding-right: 0.2em;padding-left: 0.2em;position: relative;}#sk-container-id-1 div.sk-item {position: relative;z-index: 1;}#sk-container-id-1 div.sk-parallel {display: flex;align-items: stretch;justify-content: center;background-color: white;position: relative;}#sk-container-id-1 div.sk-item::before, #sk-container-id-1 div.sk-parallel-item::before {content: \"\";position: absolute;border-left: 1px solid gray;box-sizing: border-box;top: 0;bottom: 0;left: 50%;z-index: -1;}#sk-container-id-1 div.sk-parallel-item {display: flex;flex-direction: column;z-index: 1;position: relative;background-color: white;}#sk-container-id-1 div.sk-parallel-item:first-child::after {align-self: flex-end;width: 50%;}#sk-container-id-1 div.sk-parallel-item:last-child::after {align-self: flex-start;width: 50%;}#sk-container-id-1 div.sk-parallel-item:only-child::after {width: 0;}#sk-container-id-1 div.sk-dashed-wrapped {border: 1px dashed gray;margin: 0 0.4em 0.5em 0.4em;box-sizing: border-box;padding-bottom: 0.4em;background-color: white;}#sk-container-id-1 div.sk-label label {font-family: monospace;font-weight: bold;display: inline-block;line-height: 1.2em;}#sk-container-id-1 div.sk-label-container {text-align: center;}#sk-container-id-1 div.sk-container {/* jupyter's `normalize.less` sets `[hidden] { display: none; }` but bootstrap.min.css set `[hidden] { display: none !important; }` so we also need the `!important` here to be able to override the default hidden behavior on the sphinx rendered scikit-learn.org. See: https://github.com/scikit-learn/scikit-learn/issues/21755 */display: inline-block !important;position: relative;}#sk-container-id-1 div.sk-text-repr-fallback {display: none;}</style><div id=\"sk-container-id-1\" class=\"sk-top-container\"><div class=\"sk-text-repr-fallback\"><pre>SelectFromModel(estimator=Lasso(alpha=0.005, random_state=0))</pre><b>In a Jupyter environment, please rerun this cell to show the HTML representation or trust the notebook. <br />On GitHub, the HTML representation is unable to render, please try loading this page with nbviewer.org.</b></div><div class=\"sk-container\" hidden><div class=\"sk-item sk-dashed-wrapped\"><div class=\"sk-label-container\"><div class=\"sk-label sk-toggleable\"><input class=\"sk-toggleable__control sk-hidden--visually\" id=\"sk-estimator-id-1\" type=\"checkbox\" ><label for=\"sk-estimator-id-1\" class=\"sk-toggleable__label sk-toggleable__label-arrow\">SelectFromModel</label><div class=\"sk-toggleable__content\"><pre>SelectFromModel(estimator=Lasso(alpha=0.005, random_state=0))</pre></div></div></div><div class=\"sk-parallel\"><div class=\"sk-parallel-item\"><div class=\"sk-item\"><div class=\"sk-label-container\"><div class=\"sk-label sk-toggleable\"><input class=\"sk-toggleable__control sk-hidden--visually\" id=\"sk-estimator-id-2\" type=\"checkbox\" ><label for=\"sk-estimator-id-2\" class=\"sk-toggleable__label sk-toggleable__label-arrow\">estimator: Lasso</label><div class=\"sk-toggleable__content\"><pre>Lasso(alpha=0.005, random_state=0)</pre></div></div></div><div class=\"sk-serial\"><div class=\"sk-item\"><div class=\"sk-estimator sk-toggleable\"><input class=\"sk-toggleable__control sk-hidden--visually\" id=\"sk-estimator-id-3\" type=\"checkbox\" ><label for=\"sk-estimator-id-3\" class=\"sk-toggleable__label sk-toggleable__label-arrow\">Lasso</label><div class=\"sk-toggleable__content\"><pre>Lasso(alpha=0.005, random_state=0)</pre></div></div></div></div></div></div></div></div></div></div>"
      ],
      "text/plain": [
       "SelectFromModel(estimator=Lasso(alpha=0.005, random_state=0))"
      ]
     },
     "execution_count": 30,
     "metadata": {},
     "output_type": "execute_result"
    }
   ],
   "source": [
    "feature_sel_model = SelectFromModel(Lasso(alpha=0.005, random_state=0)) # remember to set the seed, the random state in this function\n",
    "feature_sel_model.fit(X, y)"
   ]
  },
  {
   "cell_type": "code",
   "execution_count": 31,
   "id": "c88cbba2",
   "metadata": {
    "execution": {
     "iopub.execute_input": "2024-05-26T11:52:38.056155Z",
     "iopub.status.busy": "2024-05-26T11:52:38.055401Z",
     "iopub.status.idle": "2024-05-26T11:52:38.062149Z",
     "shell.execute_reply": "2024-05-26T11:52:38.061230Z"
    },
    "papermill": {
     "duration": 0.032968,
     "end_time": "2024-05-26T11:52:38.064146",
     "exception": false,
     "start_time": "2024-05-26T11:52:38.031178",
     "status": "completed"
    },
    "tags": []
   },
   "outputs": [
    {
     "data": {
      "text/plain": [
       "array([ True,  True, False,  True, False, False,  True, False, False,\n",
       "       False,  True,  True,  True, False, False,  True])"
      ]
     },
     "execution_count": 31,
     "metadata": {},
     "output_type": "execute_result"
    }
   ],
   "source": [
    "feature_sel_model.get_support()"
   ]
  },
  {
   "cell_type": "code",
   "execution_count": 32,
   "id": "ac008960",
   "metadata": {
    "execution": {
     "iopub.execute_input": "2024-05-26T11:52:38.112418Z",
     "iopub.status.busy": "2024-05-26T11:52:38.111695Z",
     "iopub.status.idle": "2024-05-26T11:52:38.121487Z",
     "shell.execute_reply": "2024-05-26T11:52:38.120003Z"
    },
    "papermill": {
     "duration": 0.036758,
     "end_time": "2024-05-26T11:52:38.123786",
     "exception": false,
     "start_time": "2024-05-26T11:52:38.087028",
     "status": "completed"
    },
    "tags": []
   },
   "outputs": [
    {
     "name": "stdout",
     "output_type": "stream",
     "text": [
      "total features: 16\n",
      "selected features: 8\n",
      "features with coefficients shrank to zero: 8\n"
     ]
    }
   ],
   "source": [
    "# let's print the number of total and selected features\n",
    "\n",
    "# this is how we can make a list of the selected features\n",
    "selected_feat = X.columns[(feature_sel_model.get_support())]\n",
    "\n",
    "# let's print some stats\n",
    "print('total features: {}'.format((X.shape[1])))\n",
    "print('selected features: {}'.format(len(selected_feat)))\n",
    "print('features with coefficients shrank to zero: {}'.format(\n",
    "    np.sum(feature_sel_model.estimator_.coef_ == 0)))"
   ]
  },
  {
   "cell_type": "code",
   "execution_count": 33,
   "id": "d048b6e1",
   "metadata": {
    "execution": {
     "iopub.execute_input": "2024-05-26T11:52:38.171876Z",
     "iopub.status.busy": "2024-05-26T11:52:38.171186Z",
     "iopub.status.idle": "2024-05-26T11:52:38.177906Z",
     "shell.execute_reply": "2024-05-26T11:52:38.176875Z"
    },
    "papermill": {
     "duration": 0.033211,
     "end_time": "2024-05-26T11:52:38.180022",
     "exception": false,
     "start_time": "2024-05-26T11:52:38.146811",
     "status": "completed"
    },
    "tags": []
   },
   "outputs": [
    {
     "data": {
      "text/plain": [
       "Index(['Age', 'Gender', 'Hx Smoking', 'Physical Examination', 'Risk', 'T', 'N',\n",
       "       'Response'],\n",
       "      dtype='object')"
      ]
     },
     "execution_count": 33,
     "metadata": {},
     "output_type": "execute_result"
    }
   ],
   "source": [
    "selected_feat"
   ]
  },
  {
   "cell_type": "code",
   "execution_count": 34,
   "id": "e5097726",
   "metadata": {
    "execution": {
     "iopub.execute_input": "2024-05-26T11:52:38.228647Z",
     "iopub.status.busy": "2024-05-26T11:52:38.228250Z",
     "iopub.status.idle": "2024-05-26T11:52:38.232826Z",
     "shell.execute_reply": "2024-05-26T11:52:38.231727Z"
    },
    "papermill": {
     "duration": 0.031203,
     "end_time": "2024-05-26T11:52:38.235002",
     "exception": false,
     "start_time": "2024-05-26T11:52:38.203799",
     "status": "completed"
    },
    "tags": []
   },
   "outputs": [],
   "source": [
    "#X=X[selected_feat]"
   ]
  },
  {
   "cell_type": "code",
   "execution_count": 35,
   "id": "e9c232a0",
   "metadata": {
    "execution": {
     "iopub.execute_input": "2024-05-26T11:52:38.283699Z",
     "iopub.status.busy": "2024-05-26T11:52:38.282944Z",
     "iopub.status.idle": "2024-05-26T11:52:38.297152Z",
     "shell.execute_reply": "2024-05-26T11:52:38.295983Z"
    },
    "papermill": {
     "duration": 0.041136,
     "end_time": "2024-05-26T11:52:38.299355",
     "exception": false,
     "start_time": "2024-05-26T11:52:38.258219",
     "status": "completed"
    },
    "tags": []
   },
   "outputs": [
    {
     "data": {
      "text/html": [
       "<div>\n",
       "<style scoped>\n",
       "    .dataframe tbody tr th:only-of-type {\n",
       "        vertical-align: middle;\n",
       "    }\n",
       "\n",
       "    .dataframe tbody tr th {\n",
       "        vertical-align: top;\n",
       "    }\n",
       "\n",
       "    .dataframe thead th {\n",
       "        text-align: right;\n",
       "    }\n",
       "</style>\n",
       "<table border=\"1\" class=\"dataframe\">\n",
       "  <thead>\n",
       "    <tr style=\"text-align: right;\">\n",
       "      <th></th>\n",
       "      <th>Age</th>\n",
       "      <th>Gender</th>\n",
       "      <th>Smoking</th>\n",
       "      <th>Hx Smoking</th>\n",
       "      <th>Hx Radiothreapy</th>\n",
       "      <th>Thyroid Function</th>\n",
       "      <th>Physical Examination</th>\n",
       "      <th>Adenopathy</th>\n",
       "      <th>Pathology</th>\n",
       "      <th>Focality</th>\n",
       "      <th>Risk</th>\n",
       "      <th>T</th>\n",
       "      <th>N</th>\n",
       "      <th>M</th>\n",
       "      <th>Stage</th>\n",
       "      <th>Response</th>\n",
       "    </tr>\n",
       "  </thead>\n",
       "  <tbody>\n",
       "    <tr>\n",
       "      <th>0</th>\n",
       "      <td>27</td>\n",
       "      <td>0</td>\n",
       "      <td>0</td>\n",
       "      <td>0</td>\n",
       "      <td>0</td>\n",
       "      <td>2</td>\n",
       "      <td>3</td>\n",
       "      <td>3</td>\n",
       "      <td>2</td>\n",
       "      <td>1</td>\n",
       "      <td>2</td>\n",
       "      <td>0</td>\n",
       "      <td>0</td>\n",
       "      <td>0</td>\n",
       "      <td>0</td>\n",
       "      <td>2</td>\n",
       "    </tr>\n",
       "    <tr>\n",
       "      <th>1</th>\n",
       "      <td>34</td>\n",
       "      <td>0</td>\n",
       "      <td>0</td>\n",
       "      <td>1</td>\n",
       "      <td>0</td>\n",
       "      <td>2</td>\n",
       "      <td>1</td>\n",
       "      <td>3</td>\n",
       "      <td>2</td>\n",
       "      <td>1</td>\n",
       "      <td>2</td>\n",
       "      <td>0</td>\n",
       "      <td>0</td>\n",
       "      <td>0</td>\n",
       "      <td>0</td>\n",
       "      <td>1</td>\n",
       "    </tr>\n",
       "    <tr>\n",
       "      <th>2</th>\n",
       "      <td>30</td>\n",
       "      <td>0</td>\n",
       "      <td>0</td>\n",
       "      <td>0</td>\n",
       "      <td>0</td>\n",
       "      <td>2</td>\n",
       "      <td>4</td>\n",
       "      <td>3</td>\n",
       "      <td>2</td>\n",
       "      <td>1</td>\n",
       "      <td>2</td>\n",
       "      <td>0</td>\n",
       "      <td>0</td>\n",
       "      <td>0</td>\n",
       "      <td>0</td>\n",
       "      <td>1</td>\n",
       "    </tr>\n",
       "    <tr>\n",
       "      <th>3</th>\n",
       "      <td>62</td>\n",
       "      <td>0</td>\n",
       "      <td>0</td>\n",
       "      <td>0</td>\n",
       "      <td>0</td>\n",
       "      <td>2</td>\n",
       "      <td>4</td>\n",
       "      <td>3</td>\n",
       "      <td>2</td>\n",
       "      <td>1</td>\n",
       "      <td>2</td>\n",
       "      <td>0</td>\n",
       "      <td>0</td>\n",
       "      <td>0</td>\n",
       "      <td>0</td>\n",
       "      <td>1</td>\n",
       "    </tr>\n",
       "    <tr>\n",
       "      <th>4</th>\n",
       "      <td>62</td>\n",
       "      <td>0</td>\n",
       "      <td>0</td>\n",
       "      <td>0</td>\n",
       "      <td>0</td>\n",
       "      <td>2</td>\n",
       "      <td>1</td>\n",
       "      <td>3</td>\n",
       "      <td>2</td>\n",
       "      <td>0</td>\n",
       "      <td>2</td>\n",
       "      <td>0</td>\n",
       "      <td>0</td>\n",
       "      <td>0</td>\n",
       "      <td>0</td>\n",
       "      <td>1</td>\n",
       "    </tr>\n",
       "  </tbody>\n",
       "</table>\n",
       "</div>"
      ],
      "text/plain": [
       "   Age  Gender  Smoking  Hx Smoking  Hx Radiothreapy  Thyroid Function  \\\n",
       "0   27       0        0           0                0                 2   \n",
       "1   34       0        0           1                0                 2   \n",
       "2   30       0        0           0                0                 2   \n",
       "3   62       0        0           0                0                 2   \n",
       "4   62       0        0           0                0                 2   \n",
       "\n",
       "   Physical Examination  Adenopathy  Pathology  Focality  Risk  T  N  M  \\\n",
       "0                     3           3          2         1     2  0  0  0   \n",
       "1                     1           3          2         1     2  0  0  0   \n",
       "2                     4           3          2         1     2  0  0  0   \n",
       "3                     4           3          2         1     2  0  0  0   \n",
       "4                     1           3          2         0     2  0  0  0   \n",
       "\n",
       "   Stage  Response  \n",
       "0      0         2  \n",
       "1      0         1  \n",
       "2      0         1  \n",
       "3      0         1  \n",
       "4      0         1  "
      ]
     },
     "execution_count": 35,
     "metadata": {},
     "output_type": "execute_result"
    }
   ],
   "source": [
    "X.head()"
   ]
  },
  {
   "cell_type": "code",
   "execution_count": 36,
   "id": "ec2c6f32",
   "metadata": {
    "execution": {
     "iopub.execute_input": "2024-05-26T11:52:38.348571Z",
     "iopub.status.busy": "2024-05-26T11:52:38.348155Z",
     "iopub.status.idle": "2024-05-26T11:52:38.972653Z",
     "shell.execute_reply": "2024-05-26T11:52:38.971555Z"
    },
    "papermill": {
     "duration": 0.652129,
     "end_time": "2024-05-26T11:52:38.975236",
     "exception": false,
     "start_time": "2024-05-26T11:52:38.323107",
     "status": "completed"
    },
    "tags": []
   },
   "outputs": [
    {
     "data": {
      "text/plain": [
       "<Axes: >"
      ]
     },
     "execution_count": 36,
     "metadata": {},
     "output_type": "execute_result"
    },
    {
     "data": {
      "image/png": "[encoded data removed]",
      "text/plain": [
       "<Figure size 640x480 with 2 Axes>"
      ]
     },
     "metadata": {},
     "output_type": "display_data"
    }
   ],
   "source": [
    "sns.heatmap(X.corr())"
   ]
  },
  {
   "cell_type": "code",
   "execution_count": 37,
   "id": "f022164a",
   "metadata": {
    "execution": {
     "iopub.execute_input": "2024-05-26T11:52:39.026930Z",
     "iopub.status.busy": "2024-05-26T11:52:39.026524Z",
     "iopub.status.idle": "2024-05-26T11:52:39.040931Z",
     "shell.execute_reply": "2024-05-26T11:52:39.039741Z"
    },
    "papermill": {
     "duration": 0.043516,
     "end_time": "2024-05-26T11:52:39.043131",
     "exception": false,
     "start_time": "2024-05-26T11:52:38.999615",
     "status": "completed"
    },
    "tags": []
   },
   "outputs": [
    {
     "data": {
      "text/html": [
       "<div>\n",
       "<style scoped>\n",
       "    .dataframe tbody tr th:only-of-type {\n",
       "        vertical-align: middle;\n",
       "    }\n",
       "\n",
       "    .dataframe tbody tr th {\n",
       "        vertical-align: top;\n",
       "    }\n",
       "\n",
       "    .dataframe thead th {\n",
       "        text-align: right;\n",
       "    }\n",
       "</style>\n",
       "<table border=\"1\" class=\"dataframe\">\n",
       "  <thead>\n",
       "    <tr style=\"text-align: right;\">\n",
       "      <th></th>\n",
       "      <th>Age</th>\n",
       "      <th>Gender</th>\n",
       "      <th>Smoking</th>\n",
       "      <th>Hx Smoking</th>\n",
       "      <th>Hx Radiothreapy</th>\n",
       "      <th>Thyroid Function</th>\n",
       "      <th>Physical Examination</th>\n",
       "      <th>Adenopathy</th>\n",
       "      <th>Pathology</th>\n",
       "      <th>Focality</th>\n",
       "      <th>Risk</th>\n",
       "      <th>T</th>\n",
       "      <th>N</th>\n",
       "      <th>M</th>\n",
       "      <th>Stage</th>\n",
       "      <th>Response</th>\n",
       "    </tr>\n",
       "  </thead>\n",
       "  <tbody>\n",
       "    <tr>\n",
       "      <th>0</th>\n",
       "      <td>27</td>\n",
       "      <td>0</td>\n",
       "      <td>0</td>\n",
       "      <td>0</td>\n",
       "      <td>0</td>\n",
       "      <td>2</td>\n",
       "      <td>3</td>\n",
       "      <td>3</td>\n",
       "      <td>2</td>\n",
       "      <td>1</td>\n",
       "      <td>2</td>\n",
       "      <td>0</td>\n",
       "      <td>0</td>\n",
       "      <td>0</td>\n",
       "      <td>0</td>\n",
       "      <td>2</td>\n",
       "    </tr>\n",
       "    <tr>\n",
       "      <th>1</th>\n",
       "      <td>34</td>\n",
       "      <td>0</td>\n",
       "      <td>0</td>\n",
       "      <td>1</td>\n",
       "      <td>0</td>\n",
       "      <td>2</td>\n",
       "      <td>1</td>\n",
       "      <td>3</td>\n",
       "      <td>2</td>\n",
       "      <td>1</td>\n",
       "      <td>2</td>\n",
       "      <td>0</td>\n",
       "      <td>0</td>\n",
       "      <td>0</td>\n",
       "      <td>0</td>\n",
       "      <td>1</td>\n",
       "    </tr>\n",
       "    <tr>\n",
       "      <th>2</th>\n",
       "      <td>30</td>\n",
       "      <td>0</td>\n",
       "      <td>0</td>\n",
       "      <td>0</td>\n",
       "      <td>0</td>\n",
       "      <td>2</td>\n",
       "      <td>4</td>\n",
       "      <td>3</td>\n",
       "      <td>2</td>\n",
       "      <td>1</td>\n",
       "      <td>2</td>\n",
       "      <td>0</td>\n",
       "      <td>0</td>\n",
       "      <td>0</td>\n",
       "      <td>0</td>\n",
       "      <td>1</td>\n",
       "    </tr>\n",
       "    <tr>\n",
       "      <th>3</th>\n",
       "      <td>62</td>\n",
       "      <td>0</td>\n",
       "      <td>0</td>\n",
       "      <td>0</td>\n",
       "      <td>0</td>\n",
       "      <td>2</td>\n",
       "      <td>4</td>\n",
       "      <td>3</td>\n",
       "      <td>2</td>\n",
       "      <td>1</td>\n",
       "      <td>2</td>\n",
       "      <td>0</td>\n",
       "      <td>0</td>\n",
       "      <td>0</td>\n",
       "      <td>0</td>\n",
       "      <td>1</td>\n",
       "    </tr>\n",
       "    <tr>\n",
       "      <th>4</th>\n",
       "      <td>62</td>\n",
       "      <td>0</td>\n",
       "      <td>0</td>\n",
       "      <td>0</td>\n",
       "      <td>0</td>\n",
       "      <td>2</td>\n",
       "      <td>1</td>\n",
       "      <td>3</td>\n",
       "      <td>2</td>\n",
       "      <td>0</td>\n",
       "      <td>2</td>\n",
       "      <td>0</td>\n",
       "      <td>0</td>\n",
       "      <td>0</td>\n",
       "      <td>0</td>\n",
       "      <td>1</td>\n",
       "    </tr>\n",
       "  </tbody>\n",
       "</table>\n",
       "</div>"
      ],
      "text/plain": [
       "   Age  Gender  Smoking  Hx Smoking  Hx Radiothreapy  Thyroid Function  \\\n",
       "0   27       0        0           0                0                 2   \n",
       "1   34       0        0           1                0                 2   \n",
       "2   30       0        0           0                0                 2   \n",
       "3   62       0        0           0                0                 2   \n",
       "4   62       0        0           0                0                 2   \n",
       "\n",
       "   Physical Examination  Adenopathy  Pathology  Focality  Risk  T  N  M  \\\n",
       "0                     3           3          2         1     2  0  0  0   \n",
       "1                     1           3          2         1     2  0  0  0   \n",
       "2                     4           3          2         1     2  0  0  0   \n",
       "3                     4           3          2         1     2  0  0  0   \n",
       "4                     1           3          2         0     2  0  0  0   \n",
       "\n",
       "   Stage  Response  \n",
       "0      0         2  \n",
       "1      0         1  \n",
       "2      0         1  \n",
       "3      0         1  \n",
       "4      0         1  "
      ]
     },
     "execution_count": 37,
     "metadata": {},
     "output_type": "execute_result"
    }
   ],
   "source": [
    "X.head()"
   ]
  },
  {
   "cell_type": "markdown",
   "id": "544e04d7",
   "metadata": {
    "papermill": {
     "duration": 0.024339,
     "end_time": "2024-05-26T11:52:39.092140",
     "exception": false,
     "start_time": "2024-05-26T11:52:39.067801",
     "status": "completed"
    },
    "tags": []
   },
   "source": [
    "# Model Building"
   ]
  },
  {
   "cell_type": "code",
   "execution_count": 38,
   "id": "353a78cd",
   "metadata": {
    "execution": {
     "iopub.execute_input": "2024-05-26T11:52:39.142945Z",
     "iopub.status.busy": "2024-05-26T11:52:39.142544Z",
     "iopub.status.idle": "2024-05-26T11:52:39.150542Z",
     "shell.execute_reply": "2024-05-26T11:52:39.149743Z"
    },
    "papermill": {
     "duration": 0.036148,
     "end_time": "2024-05-26T11:52:39.152782",
     "exception": false,
     "start_time": "2024-05-26T11:52:39.116634",
     "status": "completed"
    },
    "tags": []
   },
   "outputs": [],
   "source": [
    "from sklearn.model_selection import train_test_split\n",
    "X_train, X_test, y_train, y_test = train_test_split(X, y, test_size = 0.30)"
   ]
  },
  {
   "cell_type": "code",
   "execution_count": 39,
   "id": "569a1833",
   "metadata": {
    "execution": {
     "iopub.execute_input": "2024-05-26T11:52:39.203651Z",
     "iopub.status.busy": "2024-05-26T11:52:39.203260Z",
     "iopub.status.idle": "2024-05-26T11:52:39.468544Z",
     "shell.execute_reply": "2024-05-26T11:52:39.467376Z"
    },
    "papermill": {
     "duration": 0.294056,
     "end_time": "2024-05-26T11:52:39.471476",
     "exception": false,
     "start_time": "2024-05-26T11:52:39.177420",
     "status": "completed"
    },
    "tags": []
   },
   "outputs": [
    {
     "name": "stderr",
     "output_type": "stream",
     "text": [
      "/tmp/ipykernel_18/324425438.py:3: DataConversionWarning: A column-vector y was passed when a 1d array was expected. Please change the shape of y to (n_samples,), for example using ravel().\n",
      "  clf.fit(X_train, y_train)\n"
     ]
    },
    {
     "data": {
      "text/html": [
       "<style>#sk-container-id-2 {color: black;background-color: white;}#sk-container-id-2 pre{padding: 0;}#sk-container-id-2 div.sk-toggleable {background-color: white;}#sk-container-id-2 label.sk-toggleable__label {cursor: pointer;display: block;width: 100%;margin-bottom: 0;padding: 0.3em;box-sizing: border-box;text-align: center;}#sk-container-id-2 label.sk-toggleable__label-arrow:before {content: \"▸\";float: left;margin-right: 0.25em;color: #696969;}#sk-container-id-2 label.sk-toggleable__label-arrow:hover:before {color: black;}#sk-container-id-2 div.sk-estimator:hover label.sk-toggleable__label-arrow:before {color: black;}#sk-container-id-2 div.sk-toggleable__content {max-height: 0;max-width: 0;overflow: hidden;text-align: left;background-color: #f0f8ff;}#sk-container-id-2 div.sk-toggleable__content pre {margin: 0.2em;color: black;border-radius: 0.25em;background-color: #f0f8ff;}#sk-container-id-2 input.sk-toggleable__control:checked~div.sk-toggleable__content {max-height: 200px;max-width: 100%;overflow: auto;}#sk-container-id-2 input.sk-toggleable__control:checked~label.sk-toggleable__label-arrow:before {content: \"▾\";}#sk-container-id-2 div.sk-estimator input.sk-toggleable__control:checked~label.sk-toggleable__label {background-color: #d4ebff;}#sk-container-id-2 div.sk-label input.sk-toggleable__control:checked~label.sk-toggleable__label {background-color: #d4ebff;}#sk-container-id-2 input.sk-hidden--visually {border: 0;clip: rect(1px 1px 1px 1px);clip: rect(1px, 1px, 1px, 1px);height: 1px;margin: -1px;overflow: hidden;padding: 0;position: absolute;width: 1px;}#sk-container-id-2 div.sk-estimator {font-family: monospace;background-color: #f0f8ff;border: 1px dotted black;border-radius: 0.25em;box-sizing: border-box;margin-bottom: 0.5em;}#sk-container-id-2 div.sk-estimator:hover {background-color: #d4ebff;}#sk-container-id-2 div.sk-parallel-item::after {content: \"\";width: 100%;border-bottom: 1px solid gray;flex-grow: 1;}#sk-container-id-2 div.sk-label:hover label.sk-toggleable__label {background-color: #d4ebff;}#sk-container-id-2 div.sk-serial::before {content: \"\";position: absolute;border-left: 1px solid gray;box-sizing: border-box;top: 0;bottom: 0;left: 50%;z-index: 0;}#sk-container-id-2 div.sk-serial {display: flex;flex-direction: column;align-items: center;background-color: white;padding-right: 0.2em;padding-left: 0.2em;position: relative;}#sk-container-id-2 div.sk-item {position: relative;z-index: 1;}#sk-container-id-2 div.sk-parallel {display: flex;align-items: stretch;justify-content: center;background-color: white;position: relative;}#sk-container-id-2 div.sk-item::before, #sk-container-id-2 div.sk-parallel-item::before {content: \"\";position: absolute;border-left: 1px solid gray;box-sizing: border-box;top: 0;bottom: 0;left: 50%;z-index: -1;}#sk-container-id-2 div.sk-parallel-item {display: flex;flex-direction: column;z-index: 1;position: relative;background-color: white;}#sk-container-id-2 div.sk-parallel-item:first-child::after {align-self: flex-end;width: 50%;}#sk-container-id-2 div.sk-parallel-item:last-child::after {align-self: flex-start;width: 50%;}#sk-container-id-2 div.sk-parallel-item:only-child::after {width: 0;}#sk-container-id-2 div.sk-dashed-wrapped {border: 1px dashed gray;margin: 0 0.4em 0.5em 0.4em;box-sizing: border-box;padding-bottom: 0.4em;background-color: white;}#sk-container-id-2 div.sk-label label {font-family: monospace;font-weight: bold;display: inline-block;line-height: 1.2em;}#sk-container-id-2 div.sk-label-container {text-align: center;}#sk-container-id-2 div.sk-container {/* jupyter's `normalize.less` sets `[hidden] { display: none; }` but bootstrap.min.css set `[hidden] { display: none !important; }` so we also need the `!important` here to be able to override the default hidden behavior on the sphinx rendered scikit-learn.org. See: https://github.com/scikit-learn/scikit-learn/issues/21755 */display: inline-block !important;position: relative;}#sk-container-id-2 div.sk-text-repr-fallback {display: none;}</style><div id=\"sk-container-id-2\" class=\"sk-top-container\"><div class=\"sk-text-repr-fallback\"><pre>RandomForestClassifier()</pre><b>In a Jupyter environment, please rerun this cell to show the HTML representation or trust the notebook. <br />On GitHub, the HTML representation is unable to render, please try loading this page with nbviewer.org.</b></div><div class=\"sk-container\" hidden><div class=\"sk-item\"><div class=\"sk-estimator sk-toggleable\"><input class=\"sk-toggleable__control sk-hidden--visually\" id=\"sk-estimator-id-4\" type=\"checkbox\" checked><label for=\"sk-estimator-id-4\" class=\"sk-toggleable__label sk-toggleable__label-arrow\">RandomForestClassifier</label><div class=\"sk-toggleable__content\"><pre>RandomForestClassifier()</pre></div></div></div></div></div>"
      ],
      "text/plain": [
       "RandomForestClassifier()"
      ]
     },
     "execution_count": 39,
     "metadata": {},
     "output_type": "execute_result"
    }
   ],
   "source": [
    "from sklearn.ensemble import RandomForestClassifier\n",
    "clf = RandomForestClassifier(n_estimators = 100) \n",
    "clf.fit(X_train, y_train)"
   ]
  },
  {
   "cell_type": "code",
   "execution_count": 40,
   "id": "7280eb7f",
   "metadata": {
    "execution": {
     "iopub.execute_input": "2024-05-26T11:52:39.524360Z",
     "iopub.status.busy": "2024-05-26T11:52:39.523580Z",
     "iopub.status.idle": "2024-05-26T11:52:39.537242Z",
     "shell.execute_reply": "2024-05-26T11:52:39.536315Z"
    },
    "papermill": {
     "duration": 0.043305,
     "end_time": "2024-05-26T11:52:39.539602",
     "exception": false,
     "start_time": "2024-05-26T11:52:39.496297",
     "status": "completed"
    },
    "tags": []
   },
   "outputs": [],
   "source": [
    "# performing predictions on the test dataset\n",
    "y_pred = clf.predict(X_test)"
   ]
  },
  {
   "cell_type": "code",
   "execution_count": 41,
   "id": "854e3361",
   "metadata": {
    "execution": {
     "iopub.execute_input": "2024-05-26T11:52:39.591764Z",
     "iopub.status.busy": "2024-05-26T11:52:39.590985Z",
     "iopub.status.idle": "2024-05-26T11:52:39.600773Z",
     "shell.execute_reply": "2024-05-26T11:52:39.599543Z"
    },
    "papermill": {
     "duration": 0.038382,
     "end_time": "2024-05-26T11:52:39.602844",
     "exception": false,
     "start_time": "2024-05-26T11:52:39.564462",
     "status": "completed"
    },
    "tags": []
   },
   "outputs": [
    {
     "name": "stdout",
     "output_type": "stream",
     "text": [
      "ACCURACY OF THE MODEL: 0.9652173913043478\n"
     ]
    }
   ],
   "source": [
    "# using metrics module for accuracy calculation\n",
    "from sklearn import metrics \n",
    "print(\"ACCURACY OF THE MODEL:\", metrics.accuracy_score(y_test, y_pred))"
   ]
  },
  {
   "cell_type": "code",
   "execution_count": 42,
   "id": "1f5a01b7",
   "metadata": {
    "execution": {
     "iopub.execute_input": "2024-05-26T11:52:39.654918Z",
     "iopub.status.busy": "2024-05-26T11:52:39.654522Z",
     "iopub.status.idle": "2024-05-26T11:52:40.001582Z",
     "shell.execute_reply": "2024-05-26T11:52:40.000605Z"
    },
    "papermill": {
     "duration": 0.376404,
     "end_time": "2024-05-26T11:52:40.004276",
     "exception": false,
     "start_time": "2024-05-26T11:52:39.627872",
     "status": "completed"
    },
    "tags": []
   },
   "outputs": [],
   "source": [
    "from sklearn.ensemble import RandomForestClassifier\n",
    "from sklearn.tree import DecisionTreeClassifier\n",
    "from catboost import CatBoostClassifier \n",
    "from sklearn.ensemble import AdaBoostClassifier\n",
    "from sklearn.ensemble import GradientBoostingClassifier\n",
    "import xgboost as xgb\n",
    "from sklearn.metrics import (accuracy_score,classification_report,confusion_matrix,\n",
    "                             precision_score,recall_score,f1_score,roc_auc_score,mean_squared_error,mean_absolute_error,r2_score)"
   ]
  },
  {
   "cell_type": "code",
   "execution_count": 43,
   "id": "9de0b88e",
   "metadata": {
    "execution": {
     "iopub.execute_input": "2024-05-26T11:52:40.057493Z",
     "iopub.status.busy": "2024-05-26T11:52:40.056820Z",
     "iopub.status.idle": "2024-05-26T11:52:40.064841Z",
     "shell.execute_reply": "2024-05-26T11:52:40.064041Z"
    },
    "papermill": {
     "duration": 0.036548,
     "end_time": "2024-05-26T11:52:40.066725",
     "exception": false,
     "start_time": "2024-05-26T11:52:40.030177",
     "status": "completed"
    },
    "tags": []
   },
   "outputs": [],
   "source": [
    "models={\n",
    "    \"Decison Tree\":DecisionTreeClassifier(),\n",
    "    \"Random Forest\":RandomForestClassifier(),\n",
    "    \"XGBoost\":xgb.XGBClassifier(objective=\"binary:logistic\", random_state=42),\n",
    "    \"GradientBoost\":GradientBoostingClassifier(n_estimators=100, learning_rate=1.0,max_depth=1, random_state=0),\n",
    "    \"AdaBoost\":AdaBoostClassifier(n_estimators=100, random_state=0),\n",
    "    \"CatBoost\":CatBoostClassifier(learning_rate= 0.1, depth=6, l2_leaf_reg= 3, iterations= 100)\n",
    "    \n",
    "}"
   ]
  },
  {
   "cell_type": "code",
   "execution_count": 44,
   "id": "2eac4044",
   "metadata": {
    "collapsed": true,
    "execution": {
     "iopub.execute_input": "2024-05-26T11:52:40.119252Z",
     "iopub.status.busy": "2024-05-26T11:52:40.118510Z",
     "iopub.status.idle": "2024-05-26T11:53:20.076060Z",
     "shell.execute_reply": "2024-05-26T11:53:20.074875Z"
    },
    "jupyter": {
     "outputs_hidden": true
    },
    "papermill": {
     "duration": 39.986933,
     "end_time": "2024-05-26T11:53:20.078733",
     "exception": false,
     "start_time": "2024-05-26T11:52:40.091800",
     "status": "completed"
    },
    "tags": []
   },
   "outputs": [
    {
     "name": "stdout",
     "output_type": "stream",
     "text": [
      "Collecting dagshub\r\n",
      "  Downloading dagshub-0.3.27-py3-none-any.whl.metadata (11 kB)\r\n",
      "Requirement already satisfied: PyYAML>=5 in /opt/conda/lib/python3.10/site-packages (from dagshub) (6.0.1)\r\n",
      "Collecting fusepy>=3 (from dagshub)\r\n",
      "  Downloading fusepy-3.0.1.tar.gz (11 kB)\r\n",
      "  Preparing metadata (setup.py) ... \u001b[?25l-\b \bdone\r\n",
      "\u001b[?25hRequirement already satisfied: appdirs>=1.4.4 in /opt/conda/lib/python3.10/site-packages (from dagshub) (1.4.4)\r\n",
      "Requirement already satisfied: click>=8.0.4 in /opt/conda/lib/python3.10/site-packages (from dagshub) (8.1.7)\r\n",
      "Collecting httpx~=0.23.0 (from dagshub)\r\n",
      "  Downloading httpx-0.23.3-py3-none-any.whl.metadata (7.1 kB)\r\n",
      "Requirement already satisfied: GitPython>=3.1.29 in /opt/conda/lib/python3.10/site-packages (from dagshub) (3.1.41)\r\n",
      "Collecting rich~=13.1.0 (from dagshub)\r\n",
      "  Downloading rich-13.1.0-py3-none-any.whl.metadata (18 kB)\r\n",
      "Collecting dacite~=1.6.0 (from dagshub)\r\n",
      "  Downloading dacite-1.6.0-py3-none-any.whl.metadata (14 kB)\r\n",
      "Requirement already satisfied: tenacity~=8.2.2 in /opt/conda/lib/python3.10/site-packages (from dagshub) (8.2.3)\r\n",
      "Collecting gql[requests] (from dagshub)\r\n",
      "  Downloading gql-3.5.0-py2.py3-none-any.whl.metadata (9.2 kB)\r\n",
      "Requirement already satisfied: dataclasses-json in /opt/conda/lib/python3.10/site-packages (from dagshub) (0.6.4)\r\n",
      "Requirement already satisfied: pandas in /opt/conda/lib/python3.10/site-packages (from dagshub) (2.2.2)\r\n",
      "Collecting treelib~=1.6.4 (from dagshub)\r\n",
      "  Downloading treelib-1.6.4-py3-none-any.whl.metadata (1.4 kB)\r\n",
      "Collecting pathvalidate~=3.0.0 (from dagshub)\r\n",
      "  Downloading pathvalidate-3.0.0-py3-none-any.whl.metadata (11 kB)\r\n",
      "Requirement already satisfied: python-dateutil in /opt/conda/lib/python3.10/site-packages (from dagshub) (2.9.0.post0)\r\n",
      "Requirement already satisfied: boto3 in /opt/conda/lib/python3.10/site-packages (from dagshub) (1.26.100)\r\n",
      "Requirement already satisfied: gitdb<5,>=4.0.1 in /opt/conda/lib/python3.10/site-packages (from GitPython>=3.1.29->dagshub) (4.0.11)\r\n",
      "Requirement already satisfied: certifi in /opt/conda/lib/python3.10/site-packages (from httpx~=0.23.0->dagshub) (2024.2.2)\r\n",
      "Collecting httpcore<0.17.0,>=0.15.0 (from httpx~=0.23.0->dagshub)\r\n",
      "  Downloading httpcore-0.16.3-py3-none-any.whl.metadata (16 kB)\r\n",
      "Collecting rfc3986<2,>=1.3 (from rfc3986[idna2008]<2,>=1.3->httpx~=0.23.0->dagshub)\r\n",
      "  Downloading rfc3986-1.5.0-py2.py3-none-any.whl.metadata (6.5 kB)\r\n",
      "Requirement already satisfied: sniffio in /opt/conda/lib/python3.10/site-packages (from httpx~=0.23.0->dagshub) (1.3.0)\r\n",
      "Collecting commonmark<0.10.0,>=0.9.0 (from rich~=13.1.0->dagshub)\r\n",
      "  Downloading commonmark-0.9.1-py2.py3-none-any.whl.metadata (5.7 kB)\r\n",
      "Requirement already satisfied: pygments<3.0.0,>=2.6.0 in /opt/conda/lib/python3.10/site-packages (from rich~=13.1.0->dagshub) (2.17.2)\r\n",
      "Requirement already satisfied: six in /opt/conda/lib/python3.10/site-packages (from treelib~=1.6.4->dagshub) (1.16.0)\r\n",
      "Collecting botocore<1.30.0,>=1.29.100 (from boto3->dagshub)\r\n",
      "  Downloading botocore-1.29.165-py3-none-any.whl.metadata (5.9 kB)\r\n",
      "Requirement already satisfied: jmespath<2.0.0,>=0.7.1 in /opt/conda/lib/python3.10/site-packages (from boto3->dagshub) (1.0.1)\r\n",
      "Requirement already satisfied: s3transfer<0.7.0,>=0.6.0 in /opt/conda/lib/python3.10/site-packages (from boto3->dagshub) (0.6.2)\r\n",
      "Requirement already satisfied: marshmallow<4.0.0,>=3.18.0 in /opt/conda/lib/python3.10/site-packages (from dataclasses-json->dagshub) (3.21.1)\r\n",
      "Requirement already satisfied: typing-inspect<1,>=0.4.0 in /opt/conda/lib/python3.10/site-packages (from dataclasses-json->dagshub) (0.9.0)\r\n",
      "Collecting graphql-core<3.3,>=3.2 (from gql[requests]->dagshub)\r\n",
      "  Downloading graphql_core-3.2.3-py3-none-any.whl.metadata (10 kB)\r\n",
      "Requirement already satisfied: yarl<2.0,>=1.6 in /opt/conda/lib/python3.10/site-packages (from gql[requests]->dagshub) (1.9.3)\r\n",
      "Requirement already satisfied: backoff<3.0,>=1.11.1 in /opt/conda/lib/python3.10/site-packages (from gql[requests]->dagshub) (2.2.1)\r\n",
      "Requirement already satisfied: anyio<5,>=3.0 in /opt/conda/lib/python3.10/site-packages (from gql[requests]->dagshub) (4.2.0)\r\n",
      "Requirement already satisfied: requests<3,>=2.26 in /opt/conda/lib/python3.10/site-packages (from gql[requests]->dagshub) (2.31.0)\r\n",
      "Collecting requests-toolbelt<2,>=1.0.0 (from gql[requests]->dagshub)\r\n",
      "  Downloading requests_toolbelt-1.0.0-py2.py3-none-any.whl.metadata (14 kB)\r\n",
      "Requirement already satisfied: numpy>=1.22.4 in /opt/conda/lib/python3.10/site-packages (from pandas->dagshub) (1.26.4)\r\n",
      "Requirement already satisfied: pytz>=2020.1 in /opt/conda/lib/python3.10/site-packages (from pandas->dagshub) (2023.3.post1)\r\n",
      "Requirement already satisfied: tzdata>=2022.7 in /opt/conda/lib/python3.10/site-packages (from pandas->dagshub) (2023.4)\r\n",
      "Requirement already satisfied: idna>=2.8 in /opt/conda/lib/python3.10/site-packages (from anyio<5,>=3.0->gql[requests]->dagshub) (3.6)\r\n",
      "Requirement already satisfied: exceptiongroup>=1.0.2 in /opt/conda/lib/python3.10/site-packages (from anyio<5,>=3.0->gql[requests]->dagshub) (1.2.0)\r\n",
      "Requirement already satisfied: typing-extensions>=4.1 in /opt/conda/lib/python3.10/site-packages (from anyio<5,>=3.0->gql[requests]->dagshub) (4.9.0)\r\n",
      "Requirement already satisfied: urllib3<1.27,>=1.25.4 in /opt/conda/lib/python3.10/site-packages (from botocore<1.30.0,>=1.29.100->boto3->dagshub) (1.26.18)\r\n",
      "Requirement already satisfied: smmap<6,>=3.0.1 in /opt/conda/lib/python3.10/site-packages (from gitdb<5,>=4.0.1->GitPython>=3.1.29->dagshub) (5.0.1)\r\n",
      "Requirement already satisfied: h11<0.15,>=0.13 in /opt/conda/lib/python3.10/site-packages (from httpcore<0.17.0,>=0.15.0->httpx~=0.23.0->dagshub) (0.14.0)\r\n",
      "Requirement already satisfied: packaging>=17.0 in /opt/conda/lib/python3.10/site-packages (from marshmallow<4.0.0,>=3.18.0->dataclasses-json->dagshub) (21.3)\r\n",
      "Requirement already satisfied: charset-normalizer<4,>=2 in /opt/conda/lib/python3.10/site-packages (from requests<3,>=2.26->gql[requests]->dagshub) (3.3.2)\r\n",
      "Requirement already satisfied: mypy-extensions>=0.3.0 in /opt/conda/lib/python3.10/site-packages (from typing-inspect<1,>=0.4.0->dataclasses-json->dagshub) (1.0.0)\r\n",
      "Requirement already satisfied: multidict>=4.0 in /opt/conda/lib/python3.10/site-packages (from yarl<2.0,>=1.6->gql[requests]->dagshub) (6.0.4)\r\n",
      "Requirement already satisfied: pyparsing!=3.0.5,>=2.0.2 in /opt/conda/lib/python3.10/site-packages (from packaging>=17.0->marshmallow<4.0.0,>=3.18.0->dataclasses-json->dagshub) (3.1.1)\r\n",
      "Downloading dagshub-0.3.27-py3-none-any.whl (232 kB)\r\n",
      "\u001b[2K   \u001b[90m━━━━━━━━━━━━━━━━━━━━━━━━━━━━━━━━━━━━━━━━\u001b[0m \u001b[32m232.7/232.7 kB\u001b[0m \u001b[31m5.9 MB/s\u001b[0m eta \u001b[36m0:00:00\u001b[0m\r\n",
      "\u001b[?25hDownloading dacite-1.6.0-py3-none-any.whl (12 kB)\r\n",
      "Downloading httpx-0.23.3-py3-none-any.whl (71 kB)\r\n",
      "\u001b[2K   \u001b[90m━━━━━━━━━━━━━━━━━━━━━━━━━━━━━━━━━━━━━━━━\u001b[0m \u001b[32m71.5/71.5 kB\u001b[0m \u001b[31m4.8 MB/s\u001b[0m eta \u001b[36m0:00:00\u001b[0m\r\n",
      "\u001b[?25hDownloading pathvalidate-3.0.0-py3-none-any.whl (21 kB)\r\n",
      "Downloading rich-13.1.0-py3-none-any.whl (238 kB)\r\n",
      "\u001b[2K   \u001b[90m━━━━━━━━━━━━━━━━━━━━━━━━━━━━━━━━━━━━━━━━\u001b[0m \u001b[32m238.4/238.4 kB\u001b[0m \u001b[31m14.6 MB/s\u001b[0m eta \u001b[36m0:00:00\u001b[0m\r\n",
      "\u001b[?25hDownloading treelib-1.6.4-py3-none-any.whl (18 kB)\r\n",
      "Downloading botocore-1.29.165-py3-none-any.whl (11.0 MB)\r\n",
      "\u001b[2K   \u001b[90m━━━━━━━━━━━━━━━━━━━━━━━━━━━━━━━━━━━━━━━━\u001b[0m \u001b[32m11.0/11.0 MB\u001b[0m \u001b[31m90.4 MB/s\u001b[0m eta \u001b[36m0:00:00\u001b[0m\r\n",
      "\u001b[?25hDownloading commonmark-0.9.1-py2.py3-none-any.whl (51 kB)\r\n",
      "\u001b[2K   \u001b[90m━━━━━━━━━━━━━━━━━━━━━━━━━━━━━━━━━━━━━━━━\u001b[0m \u001b[32m51.1/51.1 kB\u001b[0m \u001b[31m2.8 MB/s\u001b[0m eta \u001b[36m0:00:00\u001b[0m\r\n",
      "\u001b[?25hDownloading graphql_core-3.2.3-py3-none-any.whl (202 kB)\r\n",
      "\u001b[2K   \u001b[90m━━━━━━━━━━━━━━━━━━━━━━━━━━━━━━━━━━━━━━━━\u001b[0m \u001b[32m202.9/202.9 kB\u001b[0m \u001b[31m12.8 MB/s\u001b[0m eta \u001b[36m0:00:00\u001b[0m\r\n",
      "\u001b[?25hDownloading httpcore-0.16.3-py3-none-any.whl (69 kB)\r\n",
      "\u001b[2K   \u001b[90m━━━━━━━━━━━━━━━━━━━━━━━━━━━━━━━━━━━━━━━━\u001b[0m \u001b[32m69.6/69.6 kB\u001b[0m \u001b[31m4.7 MB/s\u001b[0m eta \u001b[36m0:00:00\u001b[0m\r\n",
      "\u001b[?25hDownloading requests_toolbelt-1.0.0-py2.py3-none-any.whl (54 kB)\r\n",
      "\u001b[2K   \u001b[90m━━━━━━━━━━━━━━━━━━━━━━━━━━━━━━━━━━━━━━━━\u001b[0m \u001b[32m54.5/54.5 kB\u001b[0m \u001b[31m3.2 MB/s\u001b[0m eta \u001b[36m0:00:00\u001b[0m\r\n",
      "\u001b[?25hDownloading rfc3986-1.5.0-py2.py3-none-any.whl (31 kB)\r\n",
      "Downloading gql-3.5.0-py2.py3-none-any.whl (74 kB)\r\n",
      "\u001b[2K   \u001b[90m━━━━━━━━━━━━━━━━━━━━━━━━━━━━━━━━━━━━━━━━\u001b[0m \u001b[32m74.0/74.0 kB\u001b[0m \u001b[31m3.9 MB/s\u001b[0m eta \u001b[36m0:00:00\u001b[0m\r\n",
      "\u001b[?25hBuilding wheels for collected packages: fusepy\r\n",
      "  Building wheel for fusepy (setup.py) ... \u001b[?25l-\b \b\\\b \bdone\r\n",
      "\u001b[?25h  Created wheel for fusepy: filename=fusepy-3.0.1-py3-none-any.whl size=10487 sha256=6370f86fe6657da842c958cddf30289e688d2a754ed796aa28671e17b25a54e3\r\n",
      "  Stored in directory: /root/.cache/pip/wheels/c0/18/f6/f0d6be9d0435e2677ce5cc758e91da50053dce456a346f08c5\r\n",
      "Successfully built fusepy\r\n",
      "Installing collected packages: rfc3986, fusepy, commonmark, treelib, rich, pathvalidate, graphql-core, dacite, requests-toolbelt, httpcore, gql, botocore, httpx, dagshub\r\n",
      "  Attempting uninstall: rich\r\n",
      "    Found existing installation: rich 13.7.0\r\n",
      "    Uninstalling rich-13.7.0:\r\n",
      "      Successfully uninstalled rich-13.7.0\r\n",
      "  Attempting uninstall: dacite\r\n",
      "    Found existing installation: dacite 1.8.1\r\n",
      "    Uninstalling dacite-1.8.1:\r\n",
      "      Successfully uninstalled dacite-1.8.1\r\n",
      "  Attempting uninstall: requests-toolbelt\r\n",
      "    Found existing installation: requests-toolbelt 0.10.1\r\n",
      "    Uninstalling requests-toolbelt-0.10.1:\r\n",
      "      Successfully uninstalled requests-toolbelt-0.10.1\r\n",
      "  Attempting uninstall: httpcore\r\n",
      "    Found existing installation: httpcore 1.0.5\r\n",
      "    Uninstalling httpcore-1.0.5:\r\n",
      "      Successfully uninstalled httpcore-1.0.5\r\n",
      "  Attempting uninstall: botocore\r\n",
      "    Found existing installation: botocore 1.34.69\r\n",
      "    Uninstalling botocore-1.34.69:\r\n",
      "      Successfully uninstalled botocore-1.34.69\r\n",
      "  Attempting uninstall: httpx\r\n",
      "    Found existing installation: httpx 0.27.0\r\n",
      "    Uninstalling httpx-0.27.0:\r\n",
      "      Successfully uninstalled httpx-0.27.0\r\n",
      "\u001b[31mERROR: pip's dependency resolver does not currently take into account all the packages that are installed. This behaviour is the source of the following dependency conflicts.\r\n",
      "keras-nlp 0.9.3 requires keras-core, which is not installed.\r\n",
      "tensorflow-decision-forests 1.8.1 requires wurlitzer, which is not installed.\r\n",
      "aiobotocore 2.12.3 requires botocore<1.34.70,>=1.34.41, but you have botocore 1.29.165 which is incompatible.\r\n",
      "jupyterlab 4.1.6 requires httpx>=0.25.0, but you have httpx 0.23.3 which is incompatible.\r\n",
      "jupyterlab 4.1.6 requires jupyter-lsp>=2.0.0, but you have jupyter-lsp 1.5.1 which is incompatible.\r\n",
      "jupyterlab-lsp 5.1.0 requires jupyter-lsp>=2.0.0, but you have jupyter-lsp 1.5.1 which is incompatible.\r\n",
      "kfp 2.5.0 requires google-cloud-storage<3,>=2.2.1, but you have google-cloud-storage 1.44.0 which is incompatible.\r\n",
      "kfp 2.5.0 requires requests-toolbelt<1,>=0.8.0, but you have requests-toolbelt 1.0.0 which is incompatible.\r\n",
      "tensorflow 2.15.0 requires keras<2.16,>=2.15.0, but you have keras 3.2.1 which is incompatible.\r\n",
      "ydata-profiling 4.6.4 requires dacite>=1.8, but you have dacite 1.6.0 which is incompatible.\r\n",
      "ydata-profiling 4.6.4 requires numpy<1.26,>=1.16.0, but you have numpy 1.26.4 which is incompatible.\u001b[0m\u001b[31m\r\n",
      "\u001b[0mSuccessfully installed botocore-1.29.165 commonmark-0.9.1 dacite-1.6.0 dagshub-0.3.27 fusepy-3.0.1 gql-3.5.0 graphql-core-3.2.3 httpcore-0.16.3 httpx-0.23.3 pathvalidate-3.0.0 requests-toolbelt-1.0.0 rfc3986-1.5.0 rich-13.1.0 treelib-1.6.4\r\n",
      "Collecting mlflow\r\n",
      "  Downloading mlflow-2.13.0-py3-none-any.whl.metadata (29 kB)\r\n",
      "Requirement already satisfied: Flask<4 in /opt/conda/lib/python3.10/site-packages (from mlflow) (3.0.3)\r\n",
      "Requirement already satisfied: alembic!=1.10.0,<2 in /opt/conda/lib/python3.10/site-packages (from mlflow) (1.13.1)\r\n",
      "Collecting cachetools<6,>=5.0.0 (from mlflow)\r\n",
      "  Downloading cachetools-5.3.3-py3-none-any.whl.metadata (5.3 kB)\r\n",
      "Requirement already satisfied: click<9,>=7.0 in /opt/conda/lib/python3.10/site-packages (from mlflow) (8.1.7)\r\n",
      "Requirement already satisfied: cloudpickle<4 in /opt/conda/lib/python3.10/site-packages (from mlflow) (2.2.1)\r\n",
      "Requirement already satisfied: docker<8,>=4.0.0 in /opt/conda/lib/python3.10/site-packages (from mlflow) (7.0.0)\r\n",
      "Requirement already satisfied: entrypoints<1 in /opt/conda/lib/python3.10/site-packages (from mlflow) (0.4)\r\n",
      "Requirement already satisfied: gitpython<4,>=3.1.9 in /opt/conda/lib/python3.10/site-packages (from mlflow) (3.1.41)\r\n",
      "Collecting graphene<4 (from mlflow)\r\n",
      "  Downloading graphene-3.3-py2.py3-none-any.whl.metadata (7.7 kB)\r\n",
      "Requirement already satisfied: importlib-metadata!=4.7.0,<8,>=3.7.0 in /opt/conda/lib/python3.10/site-packages (from mlflow) (6.11.0)\r\n",
      "Requirement already satisfied: markdown<4,>=3.3 in /opt/conda/lib/python3.10/site-packages (from mlflow) (3.5.2)\r\n",
      "Requirement already satisfied: matplotlib<4 in /opt/conda/lib/python3.10/site-packages (from mlflow) (3.7.5)\r\n",
      "Requirement already satisfied: numpy<2 in /opt/conda/lib/python3.10/site-packages (from mlflow) (1.26.4)\r\n",
      "Requirement already satisfied: opentelemetry-api<3,>=1.0.0 in /opt/conda/lib/python3.10/site-packages (from mlflow) (1.22.0)\r\n",
      "Requirement already satisfied: opentelemetry-sdk<3,>=1.0.0 in /opt/conda/lib/python3.10/site-packages (from mlflow) (1.22.0)\r\n",
      "Requirement already satisfied: packaging<25 in /opt/conda/lib/python3.10/site-packages (from mlflow) (21.3)\r\n",
      "Requirement already satisfied: pandas<3 in /opt/conda/lib/python3.10/site-packages (from mlflow) (2.2.2)\r\n",
      "Requirement already satisfied: protobuf<5,>=3.12.0 in /opt/conda/lib/python3.10/site-packages (from mlflow) (3.20.3)\r\n",
      "Requirement already satisfied: pyarrow<16,>=4.0.0 in /opt/conda/lib/python3.10/site-packages (from mlflow) (15.0.2)\r\n",
      "Requirement already satisfied: pytz<2025 in /opt/conda/lib/python3.10/site-packages (from mlflow) (2023.3.post1)\r\n",
      "Requirement already satisfied: pyyaml<7,>=5.1 in /opt/conda/lib/python3.10/site-packages (from mlflow) (6.0.1)\r\n",
      "Collecting querystring-parser<2 (from mlflow)\r\n",
      "  Downloading querystring_parser-1.2.4-py2.py3-none-any.whl.metadata (559 bytes)\r\n",
      "Requirement already satisfied: requests<3,>=2.17.3 in /opt/conda/lib/python3.10/site-packages (from mlflow) (2.31.0)\r\n",
      "Requirement already satisfied: scikit-learn<2 in /opt/conda/lib/python3.10/site-packages (from mlflow) (1.2.2)\r\n",
      "Requirement already satisfied: scipy<2 in /opt/conda/lib/python3.10/site-packages (from mlflow) (1.11.4)\r\n",
      "Requirement already satisfied: sqlalchemy<3,>=1.4.0 in /opt/conda/lib/python3.10/site-packages (from mlflow) (2.0.25)\r\n",
      "Requirement already satisfied: sqlparse<1,>=0.4.0 in /opt/conda/lib/python3.10/site-packages (from mlflow) (0.4.4)\r\n",
      "Requirement already satisfied: Jinja2<4,>=2.11 in /opt/conda/lib/python3.10/site-packages (from mlflow) (3.1.2)\r\n",
      "Collecting gunicorn<23 (from mlflow)\r\n",
      "  Downloading gunicorn-22.0.0-py3-none-any.whl.metadata (4.4 kB)\r\n",
      "Requirement already satisfied: Mako in /opt/conda/lib/python3.10/site-packages (from alembic!=1.10.0,<2->mlflow) (1.3.3)\r\n",
      "Requirement already satisfied: typing-extensions>=4 in /opt/conda/lib/python3.10/site-packages (from alembic!=1.10.0,<2->mlflow) (4.9.0)\r\n",
      "Requirement already satisfied: urllib3>=1.26.0 in /opt/conda/lib/python3.10/site-packages (from docker<8,>=4.0.0->mlflow) (1.26.18)\r\n",
      "Requirement already satisfied: Werkzeug>=3.0.0 in /opt/conda/lib/python3.10/site-packages (from Flask<4->mlflow) (3.0.2)\r\n",
      "Requirement already satisfied: itsdangerous>=2.1.2 in /opt/conda/lib/python3.10/site-packages (from Flask<4->mlflow) (2.2.0)\r\n",
      "Requirement already satisfied: blinker>=1.6.2 in /opt/conda/lib/python3.10/site-packages (from Flask<4->mlflow) (1.7.0)\r\n",
      "Requirement already satisfied: gitdb<5,>=4.0.1 in /opt/conda/lib/python3.10/site-packages (from gitpython<4,>=3.1.9->mlflow) (4.0.11)\r\n",
      "Requirement already satisfied: graphql-core<3.3,>=3.1 in /opt/conda/lib/python3.10/site-packages (from graphene<4->mlflow) (3.2.3)\r\n",
      "Collecting graphql-relay<3.3,>=3.1 (from graphene<4->mlflow)\r\n",
      "  Downloading graphql_relay-3.2.0-py3-none-any.whl.metadata (12 kB)\r\n",
      "Collecting aniso8601<10,>=8 (from graphene<4->mlflow)\r\n",
      "  Downloading aniso8601-9.0.1-py2.py3-none-any.whl.metadata (23 kB)\r\n",
      "Requirement already satisfied: zipp>=0.5 in /opt/conda/lib/python3.10/site-packages (from importlib-metadata!=4.7.0,<8,>=3.7.0->mlflow) (3.17.0)\r\n",
      "Requirement already satisfied: MarkupSafe>=2.0 in /opt/conda/lib/python3.10/site-packages (from Jinja2<4,>=2.11->mlflow) (2.1.3)\r\n",
      "Requirement already satisfied: contourpy>=1.0.1 in /opt/conda/lib/python3.10/site-packages (from matplotlib<4->mlflow) (1.2.0)\r\n",
      "Requirement already satisfied: cycler>=0.10 in /opt/conda/lib/python3.10/site-packages (from matplotlib<4->mlflow) (0.12.1)\r\n",
      "Requirement already satisfied: fonttools>=4.22.0 in /opt/conda/lib/python3.10/site-packages (from matplotlib<4->mlflow) (4.47.0)\r\n",
      "Requirement already satisfied: kiwisolver>=1.0.1 in /opt/conda/lib/python3.10/site-packages (from matplotlib<4->mlflow) (1.4.5)\r\n",
      "Requirement already satisfied: pillow>=6.2.0 in /opt/conda/lib/python3.10/site-packages (from matplotlib<4->mlflow) (9.5.0)\r\n",
      "Requirement already satisfied: pyparsing>=2.3.1 in /opt/conda/lib/python3.10/site-packages (from matplotlib<4->mlflow) (3.1.1)\r\n",
      "Requirement already satisfied: python-dateutil>=2.7 in /opt/conda/lib/python3.10/site-packages (from matplotlib<4->mlflow) (2.9.0.post0)\r\n",
      "Requirement already satisfied: deprecated>=1.2.6 in /opt/conda/lib/python3.10/site-packages (from opentelemetry-api<3,>=1.0.0->mlflow) (1.2.14)\r\n",
      "Requirement already satisfied: opentelemetry-semantic-conventions==0.43b0 in /opt/conda/lib/python3.10/site-packages (from opentelemetry-sdk<3,>=1.0.0->mlflow) (0.43b0)\r\n",
      "Requirement already satisfied: tzdata>=2022.7 in /opt/conda/lib/python3.10/site-packages (from pandas<3->mlflow) (2023.4)\r\n",
      "Requirement already satisfied: six in /opt/conda/lib/python3.10/site-packages (from querystring-parser<2->mlflow) (1.16.0)\r\n",
      "Requirement already satisfied: charset-normalizer<4,>=2 in /opt/conda/lib/python3.10/site-packages (from requests<3,>=2.17.3->mlflow) (3.3.2)\r\n",
      "Requirement already satisfied: idna<4,>=2.5 in /opt/conda/lib/python3.10/site-packages (from requests<3,>=2.17.3->mlflow) (3.6)\r\n",
      "Requirement already satisfied: certifi>=2017.4.17 in /opt/conda/lib/python3.10/site-packages (from requests<3,>=2.17.3->mlflow) (2024.2.2)\r\n",
      "Requirement already satisfied: joblib>=1.1.1 in /opt/conda/lib/python3.10/site-packages (from scikit-learn<2->mlflow) (1.4.0)\r\n",
      "Requirement already satisfied: threadpoolctl>=2.0.0 in /opt/conda/lib/python3.10/site-packages (from scikit-learn<2->mlflow) (3.2.0)\r\n",
      "Requirement already satisfied: greenlet!=0.4.17 in /opt/conda/lib/python3.10/site-packages (from sqlalchemy<3,>=1.4.0->mlflow) (3.0.3)\r\n",
      "Requirement already satisfied: wrapt<2,>=1.10 in /opt/conda/lib/python3.10/site-packages (from deprecated>=1.2.6->opentelemetry-api<3,>=1.0.0->mlflow) (1.14.1)\r\n",
      "Requirement already satisfied: smmap<6,>=3.0.1 in /opt/conda/lib/python3.10/site-packages (from gitdb<5,>=4.0.1->gitpython<4,>=3.1.9->mlflow) (5.0.1)\r\n",
      "Downloading mlflow-2.13.0-py3-none-any.whl (25.0 MB)\r\n",
      "\u001b[2K   \u001b[90m━━━━━━━━━━━━━━━━━━━━━━━━━━━━━━━━━━━━━━━━\u001b[0m \u001b[32m25.0/25.0 MB\u001b[0m \u001b[31m71.5 MB/s\u001b[0m eta \u001b[36m0:00:00\u001b[0m\r\n",
      "\u001b[?25hDownloading cachetools-5.3.3-py3-none-any.whl (9.3 kB)\r\n",
      "Downloading graphene-3.3-py2.py3-none-any.whl (128 kB)\r\n",
      "\u001b[2K   \u001b[90m━━━━━━━━━━━━━━━━━━━━━━━━━━━━━━━━━━━━━━━━\u001b[0m \u001b[32m128.2/128.2 kB\u001b[0m \u001b[31m7.5 MB/s\u001b[0m eta \u001b[36m0:00:00\u001b[0m\r\n",
      "\u001b[?25hDownloading gunicorn-22.0.0-py3-none-any.whl (84 kB)\r\n",
      "\u001b[2K   \u001b[90m━━━━━━━━━━━━━━━━━━━━━━━━━━━━━━━━━━━━━━━━\u001b[0m \u001b[32m84.4/84.4 kB\u001b[0m \u001b[31m5.5 MB/s\u001b[0m eta \u001b[36m0:00:00\u001b[0m\r\n",
      "\u001b[?25hDownloading querystring_parser-1.2.4-py2.py3-none-any.whl (7.9 kB)\r\n",
      "Downloading aniso8601-9.0.1-py2.py3-none-any.whl (52 kB)\r\n",
      "\u001b[2K   \u001b[90m━━━━━━━━━━━━━━━━━━━━━━━━━━━━━━━━━━━━━━━━\u001b[0m \u001b[32m52.8/52.8 kB\u001b[0m \u001b[31m3.2 MB/s\u001b[0m eta \u001b[36m0:00:00\u001b[0m\r\n",
      "\u001b[?25hDownloading graphql_relay-3.2.0-py3-none-any.whl (16 kB)\r\n",
      "Installing collected packages: aniso8601, querystring-parser, graphql-relay, cachetools, gunicorn, graphene, mlflow\r\n",
      "  Attempting uninstall: cachetools\r\n",
      "    Found existing installation: cachetools 4.2.4\r\n",
      "    Uninstalling cachetools-4.2.4:\r\n",
      "      Successfully uninstalled cachetools-4.2.4\r\n",
      "\u001b[31mERROR: pip's dependency resolver does not currently take into account all the packages that are installed. This behaviour is the source of the following dependency conflicts.\r\n",
      "tensorflow-decision-forests 1.8.1 requires wurlitzer, which is not installed.\r\n",
      "kfp 2.5.0 requires google-cloud-storage<3,>=2.2.1, but you have google-cloud-storage 1.44.0 which is incompatible.\r\n",
      "kfp 2.5.0 requires requests-toolbelt<1,>=0.8.0, but you have requests-toolbelt 1.0.0 which is incompatible.\r\n",
      "tensorflow 2.15.0 requires keras<2.16,>=2.15.0, but you have keras 3.2.1 which is incompatible.\u001b[0m\u001b[31m\r\n",
      "\u001b[0mSuccessfully installed aniso8601-9.0.1 cachetools-5.3.2 graphene-3.3 graphql-relay-3.2.0 gunicorn-22.0.0 mlflow-2.13.0 querystring-parser-1.2.4\r\n"
     ]
    }
   ],
   "source": [
    "!pip install dagshub\n",
    "!pip install mlflow"
   ]
  },
  {
   "cell_type": "code",
   "execution_count": 45,
   "id": "a84736f6",
   "metadata": {
    "execution": {
     "iopub.execute_input": "2024-05-26T11:53:20.145309Z",
     "iopub.status.busy": "2024-05-26T11:53:20.144913Z",
     "iopub.status.idle": "2024-05-26T11:53:33.561520Z",
     "shell.execute_reply": "2024-05-26T11:53:33.560408Z"
    },
    "papermill": {
     "duration": 13.453873,
     "end_time": "2024-05-26T11:53:33.564804",
     "exception": false,
     "start_time": "2024-05-26T11:53:20.110931",
     "status": "completed"
    },
    "tags": []
   },
   "outputs": [
    {
     "data": {
      "text/html": [
       "<pre style=\"white-space:pre;overflow-x:auto;line-height:normal;font-family:Menlo,'DejaVu Sans Mono',consolas,'Courier New',monospace\">                                       <span style=\"font-weight: bold\">❗❗❗ AUTHORIZATION REQUIRED ❗❗❗</span>                                        \n",
       "</pre>\n"
      ],
      "text/plain": [
       "                                       \u001b[1m❗❗❗ AUTHORIZATION REQUIRED ❗❗❗\u001b[0m                                        \n"
      ]
     },
     "metadata": {},
     "output_type": "display_data"
    },
    {
     "data": {
      "application/vnd.jupyter.widget-view+json": {
       "model_id": "00009a2fe65948d980d2a49d8ffa3cbc",
       "version_major": 2,
       "version_minor": 0
      },
      "text/plain": [
       "Output()"
      ]
     },
     "metadata": {},
     "output_type": "display_data"
    },
    {
     "name": "stdout",
     "output_type": "stream",
     "text": [
      "\n",
      "\n",
      "Open the following link in your browser to authorize the client:\n",
      "https://dagshub.com/login/oauth/authorize?state=6fce6515-2e9b-4b40-a117-17d6b54f3881&client_id=32b60ba385aa7cecf24046d8195a71c07dd345d9657977863b52e7748e0f0f28&middleman_request_id=a07a947fc3645e3aaea840a941b3ce10be72c3dda69f2b6e61599be1f24359bd\n",
      "\n",
      "\n"
     ]
    },
    {
     "data": {
      "text/html": [
       "<pre style=\"white-space:pre;overflow-x:auto;line-height:normal;font-family:Menlo,'DejaVu Sans Mono',consolas,'Courier New',monospace\"></pre>\n"
      ],
      "text/plain": []
     },
     "metadata": {},
     "output_type": "display_data"
    },
    {
     "data": {
      "text/html": [
       "<pre style=\"white-space:pre;overflow-x:auto;line-height:normal;font-family:Menlo,'DejaVu Sans Mono',consolas,'Courier New',monospace\">Initialized MLflow to track repo <span style=\"color: #008000; text-decoration-color: #008000\">\"SunilKumar-ugra/Thyroid-Cancer-Recurrence-Prediction\"</span>\n",
       "</pre>\n"
      ],
      "text/plain": [
       "Initialized MLflow to track repo \u001b[32m\"SunilKumar-ugra/Thyroid-Cancer-Recurrence-Prediction\"\u001b[0m\n"
      ]
     },
     "metadata": {},
     "output_type": "display_data"
    },
    {
     "data": {
      "text/html": [
       "<pre style=\"white-space:pre;overflow-x:auto;line-height:normal;font-family:Menlo,'DejaVu Sans Mono',consolas,'Courier New',monospace\">Repository SunilKumar-ugra/Thyroid-Cancer-Recurrence-Prediction initialized!\n",
       "</pre>\n"
      ],
      "text/plain": [
       "Repository SunilKumar-ugra/Thyroid-Cancer-Recurrence-Prediction initialized!\n"
      ]
     },
     "metadata": {},
     "output_type": "display_data"
    }
   ],
   "source": [
    "import dagshub\n",
    "dagshub.init(repo_owner='SunilKumar-ugra', repo_name='Thyroid-Cancer-Recurrence-Prediction', mlflow=True)"
   ]
  },
  {
   "cell_type": "code",
   "execution_count": 46,
   "id": "3ab2be93",
   "metadata": {
    "execution": {
     "iopub.execute_input": "2024-05-26T11:53:34.007064Z",
     "iopub.status.busy": "2024-05-26T11:53:34.006780Z",
     "iopub.status.idle": "2024-05-26T11:53:35.807936Z",
     "shell.execute_reply": "2024-05-26T11:53:35.806902Z"
    },
    "papermill": {
     "duration": 2.197126,
     "end_time": "2024-05-26T11:53:35.810294",
     "exception": false,
     "start_time": "2024-05-26T11:53:33.613168",
     "status": "completed"
    },
    "tags": []
   },
   "outputs": [
    {
     "data": {
      "text/plain": [
       "<Experiment: artifact_location='mlflow-artifacts:/16c9651c12c140aa9dc9d4eace94e477', creation_time=1716650019448, experiment_id='0', last_update_time=1716650019448, lifecycle_stage='active', name='Thyroid Cancer Recurrence Prediction', tags={'mlflow.sharedViewState.f929573f3bf33869cb47d74c838afd8d0ff0e29f39611ab32491f4fe705ed4ca': '{\"searchFilter\":\"\",\"orderByKey\":\"metrics.`Test '\n",
       "                                                                                            'Accuracy`\",\"orderByAsc\":false,\"startTime\":\"ALL\",\"lifecycleFilter\":\"Active\",\"datasetsFilter\":[],\"modelVersionFilter\":\"All '\n",
       "                                                                                            'Runs\",\"selectedColumns\":[\"attributes.`Source`\",\"attributes.`Models`\",\"metrics.`Train '\n",
       "                                                                                            'Accuracy`\",\"metrics.`Test '\n",
       "                                                                                            'Accuracy`\"],\"runsExpanded\":{},\"runsPinned\":[],\"runsHidden\":[],\"runsHiddenMode\":\"FIRST_10_RUNS\",\"compareRunCharts\":[{\"uuid\":\"17166352004322tfmjvun\",\"type\":\"BAR\",\"runsCountToCompare\":10,\"metricSectionId\":\"1716635200431fggczsp6\",\"deleted\":false,\"isGenerated\":true,\"metricKey\":\"Test '\n",
       "                                                                                            'Accuracy\"},{\"uuid\":\"1716635200432eshmrd0f\",\"type\":\"BAR\",\"runsCountToCompare\":10,\"metricSectionId\":\"1716635200431fggczsp6\",\"deleted\":false,\"isGenerated\":true,\"metricKey\":\"Test '\n",
       "                                                                                            'F1 '\n",
       "                                                                                            'Score\"},{\"uuid\":\"1716635200432lwwmgf4x\",\"type\":\"BAR\",\"runsCountToCompare\":10,\"metricSectionId\":\"1716635200431fggczsp6\",\"deleted\":false,\"isGenerated\":true,\"metricKey\":\"Test '\n",
       "                                                                                            'Precision\"},{\"uuid\":\"17166352004327wviine1\",\"type\":\"BAR\",\"runsCountToCompare\":10,\"metricSectionId\":\"1716635200431fggczsp6\",\"deleted\":false,\"isGenerated\":true,\"metricKey\":\"Test '\n",
       "                                                                                            'Recall\"},{\"uuid\":\"171663520043265gs90lr\",\"type\":\"BAR\",\"runsCountToCompare\":10,\"metricSectionId\":\"1716635200431fggczsp6\",\"deleted\":false,\"isGenerated\":true,\"metricKey\":\"Train '\n",
       "                                                                                            'Accuracy\"},{\"uuid\":\"1716635200432h5t0ab4m\",\"type\":\"BAR\",\"runsCountToCompare\":10,\"metricSectionId\":\"1716635200431fggczsp6\",\"deleted\":false,\"isGenerated\":true,\"metricKey\":\"Train '\n",
       "                                                                                            'F1 '\n",
       "                                                                                            'Score\"},{\"uuid\":\"1716635200432oxxjxa2v\",\"type\":\"BAR\",\"runsCountToCompare\":10,\"metricSectionId\":\"1716635200431fggczsp6\",\"deleted\":false,\"isGenerated\":true,\"metricKey\":\"Train '\n",
       "                                                                                            'Precision\"},{\"uuid\":\"171663520043294p5xeaa\",\"type\":\"BAR\",\"runsCountToCompare\":10,\"metricSectionId\":\"1716635200431fggczsp6\",\"deleted\":false,\"isGenerated\":true,\"metricKey\":\"Train '\n",
       "                                                                                            'Recall\"}],\"compareRunSections\":[{\"uuid\":\"1716635200431fggczsp6\",\"name\":\"Model '\n",
       "                                                                                            'metrics\",\"display\":true,\"isReordered\":false,\"deleted\":false,\"isGenerated\":true},{\"uuid\":\"1716635200431ip5r17ro\",\"name\":\"System '\n",
       "                                                                                            'metrics\",\"display\":true,\"isReordered\":false,\"deleted\":false,\"isGenerated\":true}],\"viewMaximized\":false,\"runListHidden\":false,\"isAccordionReordered\":false,\"groupBy\":\"\",\"groupsExpanded\":{\"tag.model_name.XGBoost\":true}}'}>"
      ]
     },
     "execution_count": 46,
     "metadata": {},
     "output_type": "execute_result"
    }
   ],
   "source": [
    "import mlflow\n",
    "mlflow.set_tracking_uri(\"https://dagshub.com/SunilKumar-ugra/Thyroid-Cancer-Recurrence-Prediction.mlflow\")\n",
    "mlflow.set_experiment(\"Thyroid Cancer Recurrence Prediction\")"
   ]
  },
  {
   "cell_type": "code",
   "execution_count": 47,
   "id": "50c53b81",
   "metadata": {
    "execution": {
     "iopub.execute_input": "2024-05-26T11:53:35.897478Z",
     "iopub.status.busy": "2024-05-26T11:53:35.896807Z",
     "iopub.status.idle": "2024-05-26T11:53:35.907284Z",
     "shell.execute_reply": "2024-05-26T11:53:35.906354Z"
    },
    "papermill": {
     "duration": 0.055729,
     "end_time": "2024-05-26T11:53:35.909280",
     "exception": false,
     "start_time": "2024-05-26T11:53:35.853551",
     "status": "completed"
    },
    "tags": []
   },
   "outputs": [],
   "source": [
    "def classification_performace_matric(actual, pred,avg):\n",
    "        acc=accuracy_score(actual,pred)\n",
    "        f1=f1_score(actual,pred,average=avg)\n",
    "        precission=precision_score(actual,pred,average=avg)\n",
    "        recall=recall_score(actual,pred,average=avg)\n",
    "        return acc,f1,precission,recall"
   ]
  },
  {
   "cell_type": "code",
   "execution_count": 48,
   "id": "f034cb71",
   "metadata": {
    "collapsed": true,
    "execution": {
     "iopub.execute_input": "2024-05-26T11:53:35.978219Z",
     "iopub.status.busy": "2024-05-26T11:53:35.977267Z",
     "iopub.status.idle": "2024-05-26T11:54:47.233358Z",
     "shell.execute_reply": "2024-05-26T11:54:47.232159Z"
    },
    "jupyter": {
     "outputs_hidden": true
    },
    "papermill": {
     "duration": 71.293034,
     "end_time": "2024-05-26T11:54:47.235994",
     "exception": false,
     "start_time": "2024-05-26T11:53:35.942960",
     "status": "completed"
    },
    "tags": []
   },
   "outputs": [
    {
     "name": "stderr",
     "output_type": "stream",
     "text": [
      "/tmp/ipykernel_18/3687507582.py:10: DataConversionWarning: A column-vector y was passed when a 1d array was expected. Please change the shape of y to (n_samples,), for example using ravel().\n",
      "  model.fit(X_train,y_train)\n",
      "/opt/conda/lib/python3.10/site-packages/_distutils_hack/__init__.py:18: UserWarning: Distutils was imported before Setuptools, but importing Setuptools also replaces the `distutils` module in `sys.modules`. This may lead to undesirable behaviors or errors. To avoid these issues, avoid using distutils directly, ensure that setuptools is installed in the traditional way (e.g. not an editable install), and/or make sure that setuptools is always imported before distutils.\n",
      "  warnings.warn(\n",
      "/opt/conda/lib/python3.10/site-packages/_distutils_hack/__init__.py:33: UserWarning: Setuptools is replacing distutils.\n",
      "  warnings.warn(\"Setuptools is replacing distutils.\")\n",
      "/opt/conda/lib/python3.10/site-packages/_distutils_hack/__init__.py:18: UserWarning: Distutils was imported before Setuptools, but importing Setuptools also replaces the `distutils` module in `sys.modules`. This may lead to undesirable behaviors or errors. To avoid these issues, avoid using distutils directly, ensure that setuptools is installed in the traditional way (e.g. not an editable install), and/or make sure that setuptools is always imported before distutils.\n",
      "  warnings.warn(\n",
      "/opt/conda/lib/python3.10/site-packages/_distutils_hack/__init__.py:33: UserWarning: Setuptools is replacing distutils.\n",
      "  warnings.warn(\"Setuptools is replacing distutils.\")\n",
      "/opt/conda/lib/python3.10/site-packages/sklearn/ensemble/_gb.py:437: DataConversionWarning: A column-vector y was passed when a 1d array was expected. Please change the shape of y to (n_samples, ), for example using ravel().\n",
      "  y = column_or_1d(y, warn=True)\n",
      "/opt/conda/lib/python3.10/site-packages/_distutils_hack/__init__.py:18: UserWarning: Distutils was imported before Setuptools, but importing Setuptools also replaces the `distutils` module in `sys.modules`. This may lead to undesirable behaviors or errors. To avoid these issues, avoid using distutils directly, ensure that setuptools is installed in the traditional way (e.g. not an editable install), and/or make sure that setuptools is always imported before distutils.\n",
      "  warnings.warn(\n",
      "/opt/conda/lib/python3.10/site-packages/_distutils_hack/__init__.py:33: UserWarning: Setuptools is replacing distutils.\n",
      "  warnings.warn(\"Setuptools is replacing distutils.\")\n",
      "/opt/conda/lib/python3.10/site-packages/sklearn/utils/validation.py:1143: DataConversionWarning: A column-vector y was passed when a 1d array was expected. Please change the shape of y to (n_samples, ), for example using ravel().\n",
      "  y = column_or_1d(y, warn=True)\n",
      "/opt/conda/lib/python3.10/site-packages/_distutils_hack/__init__.py:18: UserWarning: Distutils was imported before Setuptools, but importing Setuptools also replaces the `distutils` module in `sys.modules`. This may lead to undesirable behaviors or errors. To avoid these issues, avoid using distutils directly, ensure that setuptools is installed in the traditional way (e.g. not an editable install), and/or make sure that setuptools is always imported before distutils.\n",
      "  warnings.warn(\n",
      "/opt/conda/lib/python3.10/site-packages/_distutils_hack/__init__.py:33: UserWarning: Setuptools is replacing distutils.\n",
      "  warnings.warn(\"Setuptools is replacing distutils.\")\n"
     ]
    },
    {
     "name": "stdout",
     "output_type": "stream",
     "text": [
      "0:\tlearn: 0.6292586\ttotal: 52.4ms\tremaining: 5.19s\n",
      "1:\tlearn: 0.5803514\ttotal: 53ms\tremaining: 2.6s\n",
      "2:\tlearn: 0.5421869\ttotal: 53.3ms\tremaining: 1.72s\n",
      "3:\tlearn: 0.5036847\ttotal: 53.7ms\tremaining: 1.29s\n",
      "4:\tlearn: 0.4686956\ttotal: 54ms\tremaining: 1.03s\n",
      "5:\tlearn: 0.4318224\ttotal: 54.3ms\tremaining: 850ms\n",
      "6:\tlearn: 0.4059669\ttotal: 54.6ms\tremaining: 726ms\n",
      "7:\tlearn: 0.3778390\ttotal: 55ms\tremaining: 633ms\n",
      "8:\tlearn: 0.3547060\ttotal: 55.4ms\tremaining: 560ms\n",
      "9:\tlearn: 0.3346368\ttotal: 55.7ms\tremaining: 501ms\n",
      "10:\tlearn: 0.3179591\ttotal: 56ms\tremaining: 453ms\n",
      "11:\tlearn: 0.2969079\ttotal: 56.2ms\tremaining: 412ms\n",
      "12:\tlearn: 0.2829121\ttotal: 56.6ms\tremaining: 379ms\n",
      "13:\tlearn: 0.2730625\ttotal: 56.9ms\tremaining: 350ms\n",
      "14:\tlearn: 0.2629350\ttotal: 57.3ms\tremaining: 325ms\n",
      "15:\tlearn: 0.2514453\ttotal: 57.6ms\tremaining: 302ms\n",
      "16:\tlearn: 0.2404014\ttotal: 57.9ms\tremaining: 283ms\n",
      "17:\tlearn: 0.2331382\ttotal: 58.3ms\tremaining: 265ms\n",
      "18:\tlearn: 0.2236564\ttotal: 58.6ms\tremaining: 250ms\n",
      "19:\tlearn: 0.2147043\ttotal: 59ms\tremaining: 236ms\n",
      "20:\tlearn: 0.2073133\ttotal: 59.3ms\tremaining: 223ms\n",
      "21:\tlearn: 0.2005747\ttotal: 59.7ms\tremaining: 212ms\n",
      "22:\tlearn: 0.1939686\ttotal: 60ms\tremaining: 201ms\n",
      "23:\tlearn: 0.1880496\ttotal: 60.3ms\tremaining: 191ms\n",
      "24:\tlearn: 0.1832951\ttotal: 60.6ms\tremaining: 182ms\n",
      "25:\tlearn: 0.1775646\ttotal: 60.9ms\tremaining: 173ms\n",
      "26:\tlearn: 0.1732772\ttotal: 61.2ms\tremaining: 165ms\n",
      "27:\tlearn: 0.1688533\ttotal: 61.5ms\tremaining: 158ms\n",
      "28:\tlearn: 0.1655162\ttotal: 61.9ms\tremaining: 151ms\n",
      "29:\tlearn: 0.1615303\ttotal: 62.2ms\tremaining: 145ms\n",
      "30:\tlearn: 0.1575997\ttotal: 62.5ms\tremaining: 139ms\n",
      "31:\tlearn: 0.1538248\ttotal: 62.9ms\tremaining: 134ms\n",
      "32:\tlearn: 0.1500825\ttotal: 63.2ms\tremaining: 128ms\n",
      "33:\tlearn: 0.1470547\ttotal: 63.5ms\tremaining: 123ms\n",
      "34:\tlearn: 0.1439203\ttotal: 63.7ms\tremaining: 118ms\n",
      "35:\tlearn: 0.1407316\ttotal: 64.1ms\tremaining: 114ms\n",
      "36:\tlearn: 0.1387885\ttotal: 64.4ms\tremaining: 110ms\n",
      "37:\tlearn: 0.1356218\ttotal: 64.8ms\tremaining: 106ms\n",
      "38:\tlearn: 0.1336282\ttotal: 65.1ms\tremaining: 102ms\n",
      "39:\tlearn: 0.1316728\ttotal: 65.5ms\tremaining: 98.2ms\n",
      "40:\tlearn: 0.1292238\ttotal: 65.9ms\tremaining: 94.8ms\n",
      "41:\tlearn: 0.1274059\ttotal: 66.2ms\tremaining: 91.4ms\n",
      "42:\tlearn: 0.1248349\ttotal: 66.6ms\tremaining: 88.2ms\n",
      "43:\tlearn: 0.1231154\ttotal: 66.9ms\tremaining: 85.1ms\n",
      "44:\tlearn: 0.1220028\ttotal: 67.2ms\tremaining: 82.2ms\n",
      "45:\tlearn: 0.1201431\ttotal: 67.5ms\tremaining: 79.3ms\n",
      "46:\tlearn: 0.1183132\ttotal: 67.9ms\tremaining: 76.6ms\n",
      "47:\tlearn: 0.1171671\ttotal: 68.2ms\tremaining: 73.9ms\n",
      "48:\tlearn: 0.1153982\ttotal: 68.6ms\tremaining: 71.4ms\n",
      "49:\tlearn: 0.1134904\ttotal: 68.9ms\tremaining: 68.9ms\n",
      "50:\tlearn: 0.1119154\ttotal: 69.2ms\tremaining: 66.5ms\n",
      "51:\tlearn: 0.1105169\ttotal: 69.6ms\tremaining: 64.2ms\n",
      "52:\tlearn: 0.1089132\ttotal: 69.9ms\tremaining: 62ms\n",
      "53:\tlearn: 0.1069353\ttotal: 70.2ms\tremaining: 59.8ms\n",
      "54:\tlearn: 0.1054425\ttotal: 70.6ms\tremaining: 57.7ms\n",
      "55:\tlearn: 0.1041741\ttotal: 70.9ms\tremaining: 55.7ms\n",
      "56:\tlearn: 0.1035172\ttotal: 71.2ms\tremaining: 53.7ms\n",
      "57:\tlearn: 0.1022099\ttotal: 71.6ms\tremaining: 51.8ms\n",
      "58:\tlearn: 0.1015791\ttotal: 71.9ms\tremaining: 50ms\n",
      "59:\tlearn: 0.1006336\ttotal: 72.2ms\tremaining: 48.2ms\n",
      "60:\tlearn: 0.0994442\ttotal: 72.6ms\tremaining: 46.4ms\n",
      "61:\tlearn: 0.0982657\ttotal: 73ms\tremaining: 44.7ms\n",
      "62:\tlearn: 0.0973157\ttotal: 73.3ms\tremaining: 43.1ms\n",
      "63:\tlearn: 0.0966467\ttotal: 73.7ms\tremaining: 41.4ms\n",
      "64:\tlearn: 0.0958362\ttotal: 74ms\tremaining: 39.9ms\n",
      "65:\tlearn: 0.0952002\ttotal: 74.4ms\tremaining: 38.3ms\n",
      "66:\tlearn: 0.0942910\ttotal: 74.7ms\tremaining: 36.8ms\n",
      "67:\tlearn: 0.0937740\ttotal: 75ms\tremaining: 35.3ms\n",
      "68:\tlearn: 0.0931529\ttotal: 75.4ms\tremaining: 33.9ms\n",
      "69:\tlearn: 0.0924249\ttotal: 75.7ms\tremaining: 32.4ms\n",
      "70:\tlearn: 0.0916810\ttotal: 76ms\tremaining: 31.1ms\n",
      "71:\tlearn: 0.0910848\ttotal: 76.4ms\tremaining: 29.7ms\n",
      "72:\tlearn: 0.0901385\ttotal: 76.7ms\tremaining: 28.4ms\n",
      "73:\tlearn: 0.0893410\ttotal: 77.1ms\tremaining: 27.1ms\n",
      "74:\tlearn: 0.0886018\ttotal: 77.4ms\tremaining: 25.8ms\n",
      "75:\tlearn: 0.0879407\ttotal: 77.7ms\tremaining: 24.5ms\n",
      "76:\tlearn: 0.0873904\ttotal: 78.1ms\tremaining: 23.3ms\n",
      "77:\tlearn: 0.0866613\ttotal: 78.4ms\tremaining: 22.1ms\n",
      "78:\tlearn: 0.0861740\ttotal: 78.8ms\tremaining: 20.9ms\n",
      "79:\tlearn: 0.0853417\ttotal: 79.1ms\tremaining: 19.8ms\n",
      "80:\tlearn: 0.0849195\ttotal: 79.4ms\tremaining: 18.6ms\n",
      "81:\tlearn: 0.0842567\ttotal: 79.8ms\tremaining: 17.5ms\n",
      "82:\tlearn: 0.0834027\ttotal: 80.1ms\tremaining: 16.4ms\n",
      "83:\tlearn: 0.0826380\ttotal: 80.5ms\tremaining: 15.3ms\n",
      "84:\tlearn: 0.0823006\ttotal: 80.8ms\tremaining: 14.3ms\n",
      "85:\tlearn: 0.0814834\ttotal: 81.2ms\tremaining: 13.2ms\n",
      "86:\tlearn: 0.0805137\ttotal: 81.5ms\tremaining: 12.2ms\n",
      "87:\tlearn: 0.0799090\ttotal: 81.9ms\tremaining: 11.2ms\n",
      "88:\tlearn: 0.0791898\ttotal: 82.2ms\tremaining: 10.2ms\n",
      "89:\tlearn: 0.0786108\ttotal: 82.6ms\tremaining: 9.18ms\n",
      "90:\tlearn: 0.0775870\ttotal: 82.9ms\tremaining: 8.2ms\n",
      "91:\tlearn: 0.0769272\ttotal: 83.2ms\tremaining: 7.24ms\n",
      "92:\tlearn: 0.0762257\ttotal: 83.6ms\tremaining: 6.29ms\n",
      "93:\tlearn: 0.0752601\ttotal: 84ms\tremaining: 5.36ms\n",
      "94:\tlearn: 0.0745184\ttotal: 84.3ms\tremaining: 4.44ms\n",
      "95:\tlearn: 0.0738730\ttotal: 84.6ms\tremaining: 3.53ms\n",
      "96:\tlearn: 0.0732918\ttotal: 85ms\tremaining: 2.63ms\n",
      "97:\tlearn: 0.0723844\ttotal: 85.3ms\tremaining: 1.74ms\n",
      "98:\tlearn: 0.0715144\ttotal: 85.7ms\tremaining: 865us\n",
      "99:\tlearn: 0.0708079\ttotal: 86ms\tremaining: 0us\n"
     ]
    },
    {
     "name": "stderr",
     "output_type": "stream",
     "text": [
      "/opt/conda/lib/python3.10/site-packages/_distutils_hack/__init__.py:18: UserWarning: Distutils was imported before Setuptools, but importing Setuptools also replaces the `distutils` module in `sys.modules`. This may lead to undesirable behaviors or errors. To avoid these issues, avoid using distutils directly, ensure that setuptools is installed in the traditional way (e.g. not an editable install), and/or make sure that setuptools is always imported before distutils.\n",
      "  warnings.warn(\n",
      "/opt/conda/lib/python3.10/site-packages/_distutils_hack/__init__.py:33: UserWarning: Setuptools is replacing distutils.\n",
      "  warnings.warn(\"Setuptools is replacing distutils.\")\n"
     ]
    }
   ],
   "source": [
    "mlflow.sklearn.autolog(disable=True)\n",
    "\n",
    "for i in range(len(list(models))):\n",
    "    model=list(models.values())[i]\n",
    "    model_name=list(models.keys())[i]\n",
    "    \n",
    "    with mlflow.start_run(run_name=str(model_name)):\n",
    "        mlflow.set_tag(\"model_name\", str(model_name))\n",
    "        \n",
    "        model.fit(X_train,y_train)\n",
    "    \n",
    "        y_train_pred=model.predict(X_train)\n",
    "        y_test_pred=model.predict(X_test)\n",
    "        \n",
    "        \n",
    "        #training   performance\n",
    "        (trn_acc,trn_f1,trn_precission,trn_recall)=classification_performace_matric(y_train,y_train_pred,'weighted')\n",
    "        \n",
    "        #testing   performance\n",
    "        (tst_acc,tst_f1,tst_precission,tst_recall)=classification_performace_matric(y_test,y_test_pred,'weighted')\n",
    "        \n",
    "        \n",
    "        \n",
    "        #train performance log\n",
    "        \n",
    "        mlflow.log_metric(\"Train Accuracy\", trn_acc)\n",
    "        mlflow.log_metric(\"Train F1 Score\",trn_f1)\n",
    "        mlflow.log_metric(\"Train Precision\",trn_precission)\n",
    "        mlflow.log_metric(\"Train Recall\",trn_recall)\n",
    "        \n",
    "        # test performance log\n",
    "        \n",
    "        mlflow.log_metric(\"Test Accuracy\", tst_acc)\n",
    "        mlflow.log_metric(\"Test F1 Score\",tst_f1)\n",
    "        mlflow.log_metric(\"Test Precision\",tst_precission)\n",
    "        mlflow.log_metric(\"Test Recall\",tst_recall)\n",
    "        \n",
    "        #Model log\n",
    "        mlflow.sklearn.log_model(model, str(model_name)+\"_model\")"
   ]
  },
  {
   "cell_type": "markdown",
   "id": "34000266",
   "metadata": {
    "papermill": {
     "duration": 0.033112,
     "end_time": "2024-05-26T11:54:47.302481",
     "exception": false,
     "start_time": "2024-05-26T11:54:47.269369",
     "status": "completed"
    },
    "tags": []
   },
   "source": [
    "# Result"
   ]
  },
  {
   "attachments": {
    "3806f368-fd7b-429a-b3ce-d857cb030f91.png": {
     "image/png": "[encoded data removed]"
    }
   },
   "cell_type": "markdown",
   "id": "b536a941",
   "metadata": {
    "papermill": {
     "duration": 0.033379,
     "end_time": "2024-05-26T11:54:47.370300",
     "exception": false,
     "start_time": "2024-05-26T11:54:47.336921",
     "status": "completed"
    },
    "tags": []
   },
   "source": [
    "[![image.png](attachment:3806f368-fd7b-429a-b3ce-d857cb030f91.png)](https://dagshub.com/SunilKumar-ugra/Thyroid-Cancer-Recurrence-Prediction.mlflow/#/experiments/0?viewStateShareKey=f929573f3bf33869cb47d74c838afd8d0ff0e29f39611ab32491f4fe705ed4ca)"
   ]
  }
 ],
 "metadata": {
  "kaggle": {
   "accelerator": "none",
   "dataSources": [
    {
     "datasetId": 5022080,
     "sourceId": 8432491,
     "sourceType": "datasetVersion"
    }
   ],
   "dockerImageVersionId": 30698,
   "isGpuEnabled": false,
   "isInternetEnabled": true,
   "language": "python",
   "sourceType": "notebook"
  },
  "kernelspec": {
   "display_name": "Python 3",
   "language": "python",
   "name": "python3"
  },
  "language_info": {
   "codemirror_mode": {
    "name": "ipython",
    "version": 3
   },
   "file_extension": ".py",
   "mimetype": "text/x-python",
   "name": "python",
   "nbconvert_exporter": "python",
   "pygments_lexer": "ipython3",
   "version": "3.10.13"
  },
  "papermill": {
   "default_parameters": {},
   "duration": 141.550678,
   "end_time": "2024-05-26T11:54:48.525937",
   "environment_variables": {},
   "exception": null,
   "input_path": "__notebook__.ipynb",
   "output_path": "__notebook__.ipynb",
   "parameters": {},
   "start_time": "2024-05-26T11:52:26.975259",
   "version": "2.5.0"
  },
  "widgets": {
   "application/vnd.jupyter.widget-state+json": {
    "state": {
     "00009a2fe65948d980d2a49d8ffa3cbc": {
      "model_module": "@jupyter-widgets/output",
      "model_module_version": "1.0.0",
      "model_name": "OutputModel",
      "state": {
       "_dom_classes": [],
       "_model_module": "@jupyter-widgets/output",
       "_model_module_version": "1.0.0",
       "_model_name": "OutputModel",
       "_view_count": null,
       "_view_module": "@jupyter-widgets/output",
       "_view_module_version": "1.0.0",
       "_view_name": "OutputView",
       "layout": "IPY_MODEL_119506b6b33e4af097f435e9c8a7d039",
       "msg_id": "",
       "outputs": [
        {
         "data": {
          "text/html": "<pre style=\"white-space:pre;overflow-x:auto;line-height:normal;font-family:Menlo,'DejaVu Sans Mono',consolas,'Courier New',monospace\"><span style=\"color: #008000; text-decoration-color: #008000\">⠋</span> Waiting for authorization\n</pre>\n",
          "text/plain": "\u001b[32m⠋\u001b[0m Waiting for authorization\n"
         },
         "metadata": {},
         "output_type": "display_data"
        }
       ]
      }
     },
     "119506b6b33e4af097f435e9c8a7d039": {
      "model_module": "@jupyter-widgets/base",
      "model_module_version": "1.2.0",
      "model_name": "LayoutModel",
      "state": {
       "_model_module": "@jupyter-widgets/base",
       "_model_module_version": "1.2.0",
       "_model_name": "LayoutModel",
       "_view_count": null,
       "_view_module": "@jupyter-widgets/base",
       "_view_module_version": "1.2.0",
       "_view_name": "LayoutView",
       "align_content": null,
       "align_items": null,
       "align_self": null,
       "border": null,
       "bottom": null,
       "display": null,
       "flex": null,
       "flex_flow": null,
       "grid_area": null,
       "grid_auto_columns": null,
       "grid_auto_flow": null,
       "grid_auto_rows": null,
       "grid_column": null,
       "grid_gap": null,
       "grid_row": null,
       "grid_template_areas": null,
       "grid_template_columns": null,
       "grid_template_rows": null,
       "height": null,
       "justify_content": null,
       "justify_items": null,
       "left": null,
       "margin": null,
       "max_height": null,
       "max_width": null,
       "min_height": null,
       "min_width": null,
       "object_fit": null,
       "object_position": null,
       "order": null,
       "overflow": null,
       "overflow_x": null,
       "overflow_y": null,
       "padding": null,
       "right": null,
       "top": null,
       "visibility": null,
       "width": null
      }
     }
    },
    "version_major": 2,
    "version_minor": 0
   }
  }
 },
 "nbformat": 4,
 "nbformat_minor": 5
}
